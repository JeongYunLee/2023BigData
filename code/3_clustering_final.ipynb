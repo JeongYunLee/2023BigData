{
 "cells": [
  {
   "cell_type": "markdown",
   "metadata": {},
   "source": [
    "# (3) Clustering\n",
    "* team20 (안지은, 이정윤)"
   ]
  },
  {
   "cell_type": "code",
   "execution_count": 1,
   "metadata": {},
   "outputs": [],
   "source": [
    "import pandas as pd\n",
    "pd.set_option('display.float_format', '{:.2f}'.format) ## 지수로 출력안하고 소수점 두자리까지 출력\n",
    "\n",
    "import csv\n",
    "import numpy as np\n",
    "from tqdm import tqdm\n",
    "import pickle\n",
    "import plotly.graph_objects as go\n",
    "from plotly.subplots import make_subplots\n",
    "import plotly.express as px ## for visualization\n",
    "\n",
    "import seaborn as sns ## for visualization\n",
    "import matplotlib.pyplot as plt ## for visualization\n",
    "from sklearn.decomposition import PCA ## for visualization\n",
    "\n",
    "from sklearn.model_selection import train_test_split ## for spliting data\n",
    "from sklearn.preprocessing import StandardScaler ## for Standardization\n",
    "from sklearn.preprocessing import MinMaxScaler ## MinMax Normalization\n",
    "from sklearn.cluster import KMeans ## Kmeans\n",
    "from sklearn_extra.cluster import KMedoids ## KMedoids\n",
    "from sklearn.cluster import DBSCAN ## DBSCAN\n",
    "from sklearn.neighbors import NearestNeighbors ## for DBSCAN\n",
    "\n",
    "import sklearn.metrics as metrics\n",
    "from sklearn.metrics import silhouette_samples, silhouette_score ## silhouette method\n",
    "from yellowbrick.cluster.elbow import kelbow_visualizer ## elbow method\n",
    "\n",
    "import pickle\n",
    "import warnings\n",
    "warnings.filterwarnings('ignore')"
   ]
  },
  {
   "cell_type": "code",
   "execution_count": 8,
   "metadata": {},
   "outputs": [],
   "source": [
    "df_total = pd.read_csv('./data/vehicles_1211.csv')\n",
    "df_text = pd.read_csv('./data/vehicles_text_final.csv')"
   ]
  },
  {
   "cell_type": "markdown",
   "metadata": {},
   "source": [
    "## Train, Test split"
   ]
  },
  {
   "cell_type": "markdown",
   "metadata": {},
   "source": [
    "__Log 변환 O, Standard Scaler__"
   ]
  },
  {
   "cell_type": "code",
   "execution_count": 3,
   "metadata": {},
   "outputs": [],
   "source": [
    "df_total_std = pd.read_csv('./data/df_total_std.csv')"
   ]
  },
  {
   "cell_type": "code",
   "execution_count": 4,
   "metadata": {},
   "outputs": [],
   "source": [
    "log_std = df_total_std[['year','condition','sellingprice_log', 'odometer_log', 'mmr_log']].copy()\n",
    "log_std_train, log_std_test = train_test_split(log_std, test_size=0.2, shuffle=True, random_state=1004) #stratify"
   ]
  },
  {
   "cell_type": "markdown",
   "metadata": {},
   "source": [
    "__Log 변환 O, Minmax Scaler__"
   ]
  },
  {
   "cell_type": "code",
   "execution_count": 5,
   "metadata": {},
   "outputs": [],
   "source": [
    "df_total_minmax = pd.read_csv('./data/df_total_minmax.csv')"
   ]
  },
  {
   "cell_type": "code",
   "execution_count": 6,
   "metadata": {},
   "outputs": [],
   "source": [
    "log_minmax = df_total_minmax[['year','condition','sellingprice_log', 'odometer_log', 'mmr_log']].copy()\n",
    "log_minmax_train, log_minmax_test = train_test_split(log_minmax, test_size=0.2, shuffle=True, random_state=1004) #stratify"
   ]
  },
  {
   "cell_type": "markdown",
   "metadata": {},
   "source": [
    "__Log 변환 X, Minmax Scaler__"
   ]
  },
  {
   "cell_type": "code",
   "execution_count": 7,
   "metadata": {},
   "outputs": [],
   "source": [
    "nonlog_minmax = df_total_minmax[['year','condition','sellingprice', 'odometer', 'mmr']].copy()\n",
    "nonlog_minmax_train, nonlog_minmax_test = train_test_split(nonlog_minmax, test_size=0.2, shuffle=True, random_state=1004) #stratify"
   ]
  },
  {
   "cell_type": "markdown",
   "metadata": {},
   "source": [
    "## Clustering"
   ]
  },
  {
   "cell_type": "code",
   "execution_count": 8,
   "metadata": {},
   "outputs": [],
   "source": [
    "scoretable = {}\n",
    "\n",
    "def clusterModel(kNum, rNum, train, test):\n",
    "    K = kNum ### 임의로 K값을 설정함.\n",
    "    Rstate = rNum\n",
    "    \n",
    "    model = KMeans(n_clusters = K, random_state = Rstate).fit(train)\n",
    "    test['K-Means_cluster'] = model.fit_predict(test) ### 클러스터링 진행한 결과\n",
    "\n",
    "    # 실루엣 스코어\n",
    "    score = silhouette_score(test, test['K-Means_cluster'], metric='euclidean')\n",
    "    scoretable[K] = score\n",
    "    return print(score)"
   ]
  },
  {
   "cell_type": "markdown",
   "metadata": {},
   "source": [
    "#### (1) Find best feature scale options\n",
    "- mmr, odometer, selling price 값의 log 정규화 여부, 스케일러 종류에 따른 클러스터링 성능 비교\n",
    "- 단, standard scaler의 경우, 분산값을 기준으로 스케일링 하므로 log 변환값으로 진행하는 것이 유의미하므로 로그를 적용하지 않은 스케일링은 비교군에서 제외    "
   ]
  },
  {
   "cell_type": "markdown",
   "metadata": {},
   "source": [
    "__Log 변환 O, Standard Scaler__"
   ]
  },
  {
   "cell_type": "code",
   "execution_count": null,
   "metadata": {},
   "outputs": [
    {
     "name": "stdout",
     "output_type": "stream",
     "text": [
      "0.6900683178568613\n"
     ]
    }
   ],
   "source": [
    "clusterModel(100, 8, log_std_train, log_std_test)"
   ]
  },
  {
   "cell_type": "markdown",
   "metadata": {},
   "source": [
    "__Log 변환 O, Minmax Scaler__"
   ]
  },
  {
   "cell_type": "code",
   "execution_count": null,
   "metadata": {},
   "outputs": [
    {
     "name": "stdout",
     "output_type": "stream",
     "text": [
      "0.8872816749503704\n"
     ]
    }
   ],
   "source": [
    "clusterModel(100, 8, log_minmax_train, log_minmax_test)"
   ]
  },
  {
   "cell_type": "markdown",
   "metadata": {},
   "source": [
    "__Log 변환 X, Minmax Scaler__"
   ]
  },
  {
   "cell_type": "code",
   "execution_count": null,
   "metadata": {},
   "outputs": [
    {
     "name": "stdout",
     "output_type": "stream",
     "text": [
      "0.8889483137807846\n"
     ]
    }
   ],
   "source": [
    "clusterModel(100, 8, nonlog_minmax_train, nonlog_minmax_test)"
   ]
  },
  {
   "cell_type": "markdown",
   "metadata": {},
   "source": [
    "__Conculsion__\n",
    "- log값을 적용하지 않은 상태에서 Minmax Scaler를 사용해 스케일링 하였을 때의 실루엣 계수가 가장 높았음을 확인할 수 있음."
   ]
  },
  {
   "cell_type": "code",
   "execution_count": null,
   "metadata": {},
   "outputs": [],
   "source": [
    "df_total = df_total_minmax[['index_original','year_original','vin_original','make_original','condition_original','sellingprice_original',\n",
    "                      'odometer_original', 'mmr_original','year','condition','odometer','mmr','sellingprice']].copy()\n",
    "df_total = pd.merge(df_total, df_text[['index', 'color','interior']], left_on=\"index_original\", right_on=\"index\", how=\"inner\")"
   ]
  },
  {
   "cell_type": "code",
   "execution_count": null,
   "metadata": {},
   "outputs": [
    {
     "data": {
      "text/html": [
       "<div>\n",
       "<style scoped>\n",
       "    .dataframe tbody tr th:only-of-type {\n",
       "        vertical-align: middle;\n",
       "    }\n",
       "\n",
       "    .dataframe tbody tr th {\n",
       "        vertical-align: top;\n",
       "    }\n",
       "\n",
       "    .dataframe thead th {\n",
       "        text-align: right;\n",
       "    }\n",
       "</style>\n",
       "<table border=\"1\" class=\"dataframe\">\n",
       "  <thead>\n",
       "    <tr style=\"text-align: right;\">\n",
       "      <th></th>\n",
       "      <th>index_original</th>\n",
       "      <th>year_original</th>\n",
       "      <th>make_original</th>\n",
       "      <th>vin_original</th>\n",
       "      <th>condition_original</th>\n",
       "      <th>odometer_original</th>\n",
       "      <th>mmr_original</th>\n",
       "      <th>sellingprice_original</th>\n",
       "      <th>year</th>\n",
       "      <th>condition</th>\n",
       "      <th>odometer</th>\n",
       "      <th>mmr</th>\n",
       "      <th>sellingprice</th>\n",
       "      <th>sellingprice_log</th>\n",
       "      <th>odometer_log</th>\n",
       "      <th>mmr_log</th>\n",
       "      <th>index</th>\n",
       "    </tr>\n",
       "  </thead>\n",
       "  <tbody>\n",
       "    <tr>\n",
       "      <th>0</th>\n",
       "      <td>0</td>\n",
       "      <td>2015</td>\n",
       "      <td>Kia</td>\n",
       "      <td>5xyktca69fg566472</td>\n",
       "      <td>5.00</td>\n",
       "      <td>16639.00</td>\n",
       "      <td>20500</td>\n",
       "      <td>21500</td>\n",
       "      <td>1.00</td>\n",
       "      <td>1.00</td>\n",
       "      <td>0.06</td>\n",
       "      <td>0.46</td>\n",
       "      <td>0.47</td>\n",
       "      <td>0.68</td>\n",
       "      <td>0.38</td>\n",
       "      <td>0.67</td>\n",
       "      <td>0</td>\n",
       "    </tr>\n",
       "    <tr>\n",
       "      <th>1</th>\n",
       "      <td>1</td>\n",
       "      <td>2015</td>\n",
       "      <td>Kia</td>\n",
       "      <td>5xyktca69fg561319</td>\n",
       "      <td>5.00</td>\n",
       "      <td>9393.00</td>\n",
       "      <td>20800</td>\n",
       "      <td>21500</td>\n",
       "      <td>1.00</td>\n",
       "      <td>1.00</td>\n",
       "      <td>0.04</td>\n",
       "      <td>0.47</td>\n",
       "      <td>0.47</td>\n",
       "      <td>0.68</td>\n",
       "      <td>0.31</td>\n",
       "      <td>0.68</td>\n",
       "      <td>1</td>\n",
       "    </tr>\n",
       "    <tr>\n",
       "      <th>2</th>\n",
       "      <td>2</td>\n",
       "      <td>2014</td>\n",
       "      <td>BMW</td>\n",
       "      <td>wba3c1c51ek116351</td>\n",
       "      <td>4.50</td>\n",
       "      <td>1331.00</td>\n",
       "      <td>31900</td>\n",
       "      <td>30000</td>\n",
       "      <td>0.96</td>\n",
       "      <td>0.88</td>\n",
       "      <td>0.00</td>\n",
       "      <td>0.71</td>\n",
       "      <td>0.66</td>\n",
       "      <td>0.81</td>\n",
       "      <td>0.16</td>\n",
       "      <td>0.84</td>\n",
       "      <td>2</td>\n",
       "    </tr>\n",
       "    <tr>\n",
       "      <th>3</th>\n",
       "      <td>3</td>\n",
       "      <td>2015</td>\n",
       "      <td>Volvo</td>\n",
       "      <td>yv1612tb4f1310987</td>\n",
       "      <td>4.10</td>\n",
       "      <td>14282.00</td>\n",
       "      <td>27500</td>\n",
       "      <td>27750</td>\n",
       "      <td>1.00</td>\n",
       "      <td>0.77</td>\n",
       "      <td>0.05</td>\n",
       "      <td>0.61</td>\n",
       "      <td>0.61</td>\n",
       "      <td>0.77</td>\n",
       "      <td>0.36</td>\n",
       "      <td>0.78</td>\n",
       "      <td>3</td>\n",
       "    </tr>\n",
       "    <tr>\n",
       "      <th>4</th>\n",
       "      <td>4</td>\n",
       "      <td>2015</td>\n",
       "      <td>Nissan</td>\n",
       "      <td>1n4al3ap1fn326013</td>\n",
       "      <td>1.00</td>\n",
       "      <td>5554.00</td>\n",
       "      <td>15350</td>\n",
       "      <td>10900</td>\n",
       "      <td>1.00</td>\n",
       "      <td>0.00</td>\n",
       "      <td>0.02</td>\n",
       "      <td>0.34</td>\n",
       "      <td>0.24</td>\n",
       "      <td>0.48</td>\n",
       "      <td>0.26</td>\n",
       "      <td>0.58</td>\n",
       "      <td>4</td>\n",
       "    </tr>\n",
       "    <tr>\n",
       "      <th>...</th>\n",
       "      <td>...</td>\n",
       "      <td>...</td>\n",
       "      <td>...</td>\n",
       "      <td>...</td>\n",
       "      <td>...</td>\n",
       "      <td>...</td>\n",
       "      <td>...</td>\n",
       "      <td>...</td>\n",
       "      <td>...</td>\n",
       "      <td>...</td>\n",
       "      <td>...</td>\n",
       "      <td>...</td>\n",
       "      <td>...</td>\n",
       "      <td>...</td>\n",
       "      <td>...</td>\n",
       "      <td>...</td>\n",
       "      <td>...</td>\n",
       "    </tr>\n",
       "    <tr>\n",
       "      <th>434980</th>\n",
       "      <td>434983</td>\n",
       "      <td>2011</td>\n",
       "      <td>BMW</td>\n",
       "      <td>wbafr1c53bc744672</td>\n",
       "      <td>3.90</td>\n",
       "      <td>66403.00</td>\n",
       "      <td>20300</td>\n",
       "      <td>22800</td>\n",
       "      <td>0.84</td>\n",
       "      <td>0.72</td>\n",
       "      <td>0.25</td>\n",
       "      <td>0.45</td>\n",
       "      <td>0.50</td>\n",
       "      <td>0.70</td>\n",
       "      <td>0.62</td>\n",
       "      <td>0.67</td>\n",
       "      <td>434983</td>\n",
       "    </tr>\n",
       "    <tr>\n",
       "      <th>434981</th>\n",
       "      <td>434984</td>\n",
       "      <td>2012</td>\n",
       "      <td>Ram</td>\n",
       "      <td>3c6td5et6cg112407</td>\n",
       "      <td>5.00</td>\n",
       "      <td>54393.00</td>\n",
       "      <td>30200</td>\n",
       "      <td>30800</td>\n",
       "      <td>0.88</td>\n",
       "      <td>1.00</td>\n",
       "      <td>0.20</td>\n",
       "      <td>0.68</td>\n",
       "      <td>0.67</td>\n",
       "      <td>0.82</td>\n",
       "      <td>0.58</td>\n",
       "      <td>0.82</td>\n",
       "      <td>434984</td>\n",
       "    </tr>\n",
       "    <tr>\n",
       "      <th>434982</th>\n",
       "      <td>434985</td>\n",
       "      <td>2012</td>\n",
       "      <td>BMW</td>\n",
       "      <td>5uxzw0c58cl668465</td>\n",
       "      <td>4.80</td>\n",
       "      <td>50561.00</td>\n",
       "      <td>29800</td>\n",
       "      <td>34000</td>\n",
       "      <td>0.88</td>\n",
       "      <td>0.95</td>\n",
       "      <td>0.19</td>\n",
       "      <td>0.67</td>\n",
       "      <td>0.74</td>\n",
       "      <td>0.86</td>\n",
       "      <td>0.56</td>\n",
       "      <td>0.81</td>\n",
       "      <td>434985</td>\n",
       "    </tr>\n",
       "    <tr>\n",
       "      <th>434983</th>\n",
       "      <td>434986</td>\n",
       "      <td>2015</td>\n",
       "      <td>Nissan</td>\n",
       "      <td>1n4al3ap0fc216050</td>\n",
       "      <td>3.80</td>\n",
       "      <td>16658.00</td>\n",
       "      <td>15100</td>\n",
       "      <td>11100</td>\n",
       "      <td>1.00</td>\n",
       "      <td>0.70</td>\n",
       "      <td>0.06</td>\n",
       "      <td>0.34</td>\n",
       "      <td>0.24</td>\n",
       "      <td>0.48</td>\n",
       "      <td>0.38</td>\n",
       "      <td>0.57</td>\n",
       "      <td>434986</td>\n",
       "    </tr>\n",
       "    <tr>\n",
       "      <th>434984</th>\n",
       "      <td>434987</td>\n",
       "      <td>2014</td>\n",
       "      <td>Ford</td>\n",
       "      <td>1ftfw1et2eke87277</td>\n",
       "      <td>3.40</td>\n",
       "      <td>15008.00</td>\n",
       "      <td>29600</td>\n",
       "      <td>26700</td>\n",
       "      <td>0.96</td>\n",
       "      <td>0.60</td>\n",
       "      <td>0.06</td>\n",
       "      <td>0.66</td>\n",
       "      <td>0.58</td>\n",
       "      <td>0.76</td>\n",
       "      <td>0.37</td>\n",
       "      <td>0.81</td>\n",
       "      <td>434987</td>\n",
       "    </tr>\n",
       "  </tbody>\n",
       "</table>\n",
       "<p>434985 rows × 17 columns</p>\n",
       "</div>"
      ],
      "text/plain": [
       "        index_original  year_original make_original       vin_original   \n",
       "0                    0           2015           Kia  5xyktca69fg566472  \\\n",
       "1                    1           2015           Kia  5xyktca69fg561319   \n",
       "2                    2           2014           BMW  wba3c1c51ek116351   \n",
       "3                    3           2015         Volvo  yv1612tb4f1310987   \n",
       "4                    4           2015        Nissan  1n4al3ap1fn326013   \n",
       "...                ...            ...           ...                ...   \n",
       "434980          434983           2011           BMW  wbafr1c53bc744672   \n",
       "434981          434984           2012           Ram  3c6td5et6cg112407   \n",
       "434982          434985           2012           BMW  5uxzw0c58cl668465   \n",
       "434983          434986           2015        Nissan  1n4al3ap0fc216050   \n",
       "434984          434987           2014          Ford  1ftfw1et2eke87277   \n",
       "\n",
       "        condition_original  odometer_original  mmr_original   \n",
       "0                     5.00           16639.00         20500  \\\n",
       "1                     5.00            9393.00         20800   \n",
       "2                     4.50            1331.00         31900   \n",
       "3                     4.10           14282.00         27500   \n",
       "4                     1.00            5554.00         15350   \n",
       "...                    ...                ...           ...   \n",
       "434980                3.90           66403.00         20300   \n",
       "434981                5.00           54393.00         30200   \n",
       "434982                4.80           50561.00         29800   \n",
       "434983                3.80           16658.00         15100   \n",
       "434984                3.40           15008.00         29600   \n",
       "\n",
       "        sellingprice_original  year  condition  odometer  mmr  sellingprice   \n",
       "0                       21500  1.00       1.00      0.06 0.46          0.47  \\\n",
       "1                       21500  1.00       1.00      0.04 0.47          0.47   \n",
       "2                       30000  0.96       0.88      0.00 0.71          0.66   \n",
       "3                       27750  1.00       0.77      0.05 0.61          0.61   \n",
       "4                       10900  1.00       0.00      0.02 0.34          0.24   \n",
       "...                       ...   ...        ...       ...  ...           ...   \n",
       "434980                  22800  0.84       0.72      0.25 0.45          0.50   \n",
       "434981                  30800  0.88       1.00      0.20 0.68          0.67   \n",
       "434982                  34000  0.88       0.95      0.19 0.67          0.74   \n",
       "434983                  11100  1.00       0.70      0.06 0.34          0.24   \n",
       "434984                  26700  0.96       0.60      0.06 0.66          0.58   \n",
       "\n",
       "        sellingprice_log  odometer_log  mmr_log   index  \n",
       "0                   0.68          0.38     0.67       0  \n",
       "1                   0.68          0.31     0.68       1  \n",
       "2                   0.81          0.16     0.84       2  \n",
       "3                   0.77          0.36     0.78       3  \n",
       "4                   0.48          0.26     0.58       4  \n",
       "...                  ...           ...      ...     ...  \n",
       "434980              0.70          0.62     0.67  434983  \n",
       "434981              0.82          0.58     0.82  434984  \n",
       "434982              0.86          0.56     0.81  434985  \n",
       "434983              0.48          0.38     0.57  434986  \n",
       "434984              0.76          0.37     0.81  434987  \n",
       "\n",
       "[434985 rows x 17 columns]"
      ]
     },
     "metadata": {},
     "output_type": "display_data"
    }
   ],
   "source": [
    "df_total_minmax"
   ]
  },
  {
   "cell_type": "code",
   "execution_count": null,
   "metadata": {},
   "outputs": [
    {
     "data": {
      "text/html": [
       "<div>\n",
       "<style scoped>\n",
       "    .dataframe tbody tr th:only-of-type {\n",
       "        vertical-align: middle;\n",
       "    }\n",
       "\n",
       "    .dataframe tbody tr th {\n",
       "        vertical-align: top;\n",
       "    }\n",
       "\n",
       "    .dataframe thead th {\n",
       "        text-align: right;\n",
       "    }\n",
       "</style>\n",
       "<table border=\"1\" class=\"dataframe\">\n",
       "  <thead>\n",
       "    <tr style=\"text-align: right;\">\n",
       "      <th></th>\n",
       "      <th>index_original</th>\n",
       "      <th>year_original</th>\n",
       "      <th>vin_original</th>\n",
       "      <th>make_original</th>\n",
       "      <th>condition_original</th>\n",
       "      <th>sellingprice_original</th>\n",
       "      <th>odometer_original</th>\n",
       "      <th>mmr_original</th>\n",
       "      <th>year</th>\n",
       "      <th>condition</th>\n",
       "      <th>odometer</th>\n",
       "      <th>mmr</th>\n",
       "      <th>sellingprice</th>\n",
       "      <th>index</th>\n",
       "      <th>color</th>\n",
       "      <th>interior</th>\n",
       "    </tr>\n",
       "  </thead>\n",
       "  <tbody>\n",
       "    <tr>\n",
       "      <th>0</th>\n",
       "      <td>0</td>\n",
       "      <td>2015</td>\n",
       "      <td>5xyktca69fg566472</td>\n",
       "      <td>Kia</td>\n",
       "      <td>5.00</td>\n",
       "      <td>21500</td>\n",
       "      <td>16639.00</td>\n",
       "      <td>20500</td>\n",
       "      <td>1.00</td>\n",
       "      <td>1.00</td>\n",
       "      <td>0.06</td>\n",
       "      <td>0.46</td>\n",
       "      <td>0.47</td>\n",
       "      <td>0</td>\n",
       "      <td>white</td>\n",
       "      <td>black</td>\n",
       "    </tr>\n",
       "    <tr>\n",
       "      <th>1</th>\n",
       "      <td>1</td>\n",
       "      <td>2015</td>\n",
       "      <td>5xyktca69fg561319</td>\n",
       "      <td>Kia</td>\n",
       "      <td>5.00</td>\n",
       "      <td>21500</td>\n",
       "      <td>9393.00</td>\n",
       "      <td>20800</td>\n",
       "      <td>1.00</td>\n",
       "      <td>1.00</td>\n",
       "      <td>0.04</td>\n",
       "      <td>0.47</td>\n",
       "      <td>0.47</td>\n",
       "      <td>1</td>\n",
       "      <td>white</td>\n",
       "      <td>beige</td>\n",
       "    </tr>\n",
       "    <tr>\n",
       "      <th>2</th>\n",
       "      <td>2</td>\n",
       "      <td>2014</td>\n",
       "      <td>wba3c1c51ek116351</td>\n",
       "      <td>BMW</td>\n",
       "      <td>4.50</td>\n",
       "      <td>30000</td>\n",
       "      <td>1331.00</td>\n",
       "      <td>31900</td>\n",
       "      <td>0.96</td>\n",
       "      <td>0.88</td>\n",
       "      <td>0.00</td>\n",
       "      <td>0.71</td>\n",
       "      <td>0.66</td>\n",
       "      <td>2</td>\n",
       "      <td>gray</td>\n",
       "      <td>black</td>\n",
       "    </tr>\n",
       "    <tr>\n",
       "      <th>3</th>\n",
       "      <td>3</td>\n",
       "      <td>2015</td>\n",
       "      <td>yv1612tb4f1310987</td>\n",
       "      <td>Volvo</td>\n",
       "      <td>4.10</td>\n",
       "      <td>27750</td>\n",
       "      <td>14282.00</td>\n",
       "      <td>27500</td>\n",
       "      <td>1.00</td>\n",
       "      <td>0.77</td>\n",
       "      <td>0.05</td>\n",
       "      <td>0.61</td>\n",
       "      <td>0.61</td>\n",
       "      <td>3</td>\n",
       "      <td>white</td>\n",
       "      <td>black</td>\n",
       "    </tr>\n",
       "    <tr>\n",
       "      <th>4</th>\n",
       "      <td>4</td>\n",
       "      <td>2015</td>\n",
       "      <td>1n4al3ap1fn326013</td>\n",
       "      <td>Nissan</td>\n",
       "      <td>1.00</td>\n",
       "      <td>10900</td>\n",
       "      <td>5554.00</td>\n",
       "      <td>15350</td>\n",
       "      <td>1.00</td>\n",
       "      <td>0.00</td>\n",
       "      <td>0.02</td>\n",
       "      <td>0.34</td>\n",
       "      <td>0.24</td>\n",
       "      <td>4</td>\n",
       "      <td>gray</td>\n",
       "      <td>black</td>\n",
       "    </tr>\n",
       "    <tr>\n",
       "      <th>...</th>\n",
       "      <td>...</td>\n",
       "      <td>...</td>\n",
       "      <td>...</td>\n",
       "      <td>...</td>\n",
       "      <td>...</td>\n",
       "      <td>...</td>\n",
       "      <td>...</td>\n",
       "      <td>...</td>\n",
       "      <td>...</td>\n",
       "      <td>...</td>\n",
       "      <td>...</td>\n",
       "      <td>...</td>\n",
       "      <td>...</td>\n",
       "      <td>...</td>\n",
       "      <td>...</td>\n",
       "      <td>...</td>\n",
       "    </tr>\n",
       "    <tr>\n",
       "      <th>405367</th>\n",
       "      <td>434982</td>\n",
       "      <td>2012</td>\n",
       "      <td>2c4rdgbg1cr349287</td>\n",
       "      <td>Dodge</td>\n",
       "      <td>3.70</td>\n",
       "      <td>7800</td>\n",
       "      <td>97036.00</td>\n",
       "      <td>8300</td>\n",
       "      <td>0.88</td>\n",
       "      <td>0.68</td>\n",
       "      <td>0.36</td>\n",
       "      <td>0.19</td>\n",
       "      <td>0.17</td>\n",
       "      <td>434982</td>\n",
       "      <td>white</td>\n",
       "      <td>gray</td>\n",
       "    </tr>\n",
       "    <tr>\n",
       "      <th>405368</th>\n",
       "      <td>434983</td>\n",
       "      <td>2011</td>\n",
       "      <td>wbafr1c53bc744672</td>\n",
       "      <td>BMW</td>\n",
       "      <td>3.90</td>\n",
       "      <td>22800</td>\n",
       "      <td>66403.00</td>\n",
       "      <td>20300</td>\n",
       "      <td>0.84</td>\n",
       "      <td>0.72</td>\n",
       "      <td>0.25</td>\n",
       "      <td>0.45</td>\n",
       "      <td>0.50</td>\n",
       "      <td>434983</td>\n",
       "      <td>blue</td>\n",
       "      <td>black</td>\n",
       "    </tr>\n",
       "    <tr>\n",
       "      <th>405369</th>\n",
       "      <td>434984</td>\n",
       "      <td>2012</td>\n",
       "      <td>3c6td5et6cg112407</td>\n",
       "      <td>Ram</td>\n",
       "      <td>5.00</td>\n",
       "      <td>30800</td>\n",
       "      <td>54393.00</td>\n",
       "      <td>30200</td>\n",
       "      <td>0.88</td>\n",
       "      <td>1.00</td>\n",
       "      <td>0.20</td>\n",
       "      <td>0.68</td>\n",
       "      <td>0.67</td>\n",
       "      <td>434984</td>\n",
       "      <td>black</td>\n",
       "      <td>black</td>\n",
       "    </tr>\n",
       "    <tr>\n",
       "      <th>405370</th>\n",
       "      <td>434986</td>\n",
       "      <td>2015</td>\n",
       "      <td>1n4al3ap0fc216050</td>\n",
       "      <td>Nissan</td>\n",
       "      <td>3.80</td>\n",
       "      <td>11100</td>\n",
       "      <td>16658.00</td>\n",
       "      <td>15100</td>\n",
       "      <td>1.00</td>\n",
       "      <td>0.70</td>\n",
       "      <td>0.06</td>\n",
       "      <td>0.34</td>\n",
       "      <td>0.24</td>\n",
       "      <td>434986</td>\n",
       "      <td>black</td>\n",
       "      <td>black</td>\n",
       "    </tr>\n",
       "    <tr>\n",
       "      <th>405371</th>\n",
       "      <td>434987</td>\n",
       "      <td>2014</td>\n",
       "      <td>1ftfw1et2eke87277</td>\n",
       "      <td>Ford</td>\n",
       "      <td>3.40</td>\n",
       "      <td>26700</td>\n",
       "      <td>15008.00</td>\n",
       "      <td>29600</td>\n",
       "      <td>0.96</td>\n",
       "      <td>0.60</td>\n",
       "      <td>0.06</td>\n",
       "      <td>0.66</td>\n",
       "      <td>0.58</td>\n",
       "      <td>434987</td>\n",
       "      <td>white</td>\n",
       "      <td>black</td>\n",
       "    </tr>\n",
       "  </tbody>\n",
       "</table>\n",
       "<p>405372 rows × 16 columns</p>\n",
       "</div>"
      ],
      "text/plain": [
       "        index_original  year_original       vin_original make_original   \n",
       "0                    0           2015  5xyktca69fg566472           Kia  \\\n",
       "1                    1           2015  5xyktca69fg561319           Kia   \n",
       "2                    2           2014  wba3c1c51ek116351           BMW   \n",
       "3                    3           2015  yv1612tb4f1310987         Volvo   \n",
       "4                    4           2015  1n4al3ap1fn326013        Nissan   \n",
       "...                ...            ...                ...           ...   \n",
       "405367          434982           2012  2c4rdgbg1cr349287         Dodge   \n",
       "405368          434983           2011  wbafr1c53bc744672           BMW   \n",
       "405369          434984           2012  3c6td5et6cg112407           Ram   \n",
       "405370          434986           2015  1n4al3ap0fc216050        Nissan   \n",
       "405371          434987           2014  1ftfw1et2eke87277          Ford   \n",
       "\n",
       "        condition_original  sellingprice_original  odometer_original   \n",
       "0                     5.00                  21500           16639.00  \\\n",
       "1                     5.00                  21500            9393.00   \n",
       "2                     4.50                  30000            1331.00   \n",
       "3                     4.10                  27750           14282.00   \n",
       "4                     1.00                  10900            5554.00   \n",
       "...                    ...                    ...                ...   \n",
       "405367                3.70                   7800           97036.00   \n",
       "405368                3.90                  22800           66403.00   \n",
       "405369                5.00                  30800           54393.00   \n",
       "405370                3.80                  11100           16658.00   \n",
       "405371                3.40                  26700           15008.00   \n",
       "\n",
       "        mmr_original  year  condition  odometer  mmr  sellingprice   index   \n",
       "0              20500  1.00       1.00      0.06 0.46          0.47       0  \\\n",
       "1              20800  1.00       1.00      0.04 0.47          0.47       1   \n",
       "2              31900  0.96       0.88      0.00 0.71          0.66       2   \n",
       "3              27500  1.00       0.77      0.05 0.61          0.61       3   \n",
       "4              15350  1.00       0.00      0.02 0.34          0.24       4   \n",
       "...              ...   ...        ...       ...  ...           ...     ...   \n",
       "405367          8300  0.88       0.68      0.36 0.19          0.17  434982   \n",
       "405368         20300  0.84       0.72      0.25 0.45          0.50  434983   \n",
       "405369         30200  0.88       1.00      0.20 0.68          0.67  434984   \n",
       "405370         15100  1.00       0.70      0.06 0.34          0.24  434986   \n",
       "405371         29600  0.96       0.60      0.06 0.66          0.58  434987   \n",
       "\n",
       "        color interior  \n",
       "0       white    black  \n",
       "1       white    beige  \n",
       "2        gray    black  \n",
       "3       white    black  \n",
       "4        gray    black  \n",
       "...       ...      ...  \n",
       "405367  white     gray  \n",
       "405368   blue    black  \n",
       "405369  black    black  \n",
       "405370  black    black  \n",
       "405371  white    black  \n",
       "\n",
       "[405372 rows x 16 columns]"
      ]
     },
     "metadata": {},
     "output_type": "display_data"
    }
   ],
   "source": [
    "df_total"
   ]
  },
  {
   "cell_type": "code",
   "execution_count": null,
   "metadata": {},
   "outputs": [],
   "source": [
    "df_total.to_csv('./data/vehicles_prerocessing_1211.csv')"
   ]
  },
  {
   "cell_type": "markdown",
   "metadata": {},
   "source": [
    "#### (2) Find Best K value"
   ]
  },
  {
   "cell_type": "code",
   "execution_count": 9,
   "metadata": {},
   "outputs": [],
   "source": [
    "scoretable = {}\n",
    "\n",
    "def FindK(kNum, rNum, train, test):\n",
    "    K = kNum ### 임의로 K값을 설정함.\n",
    "    \n",
    "    Rstate = rNum\n",
    "    \n",
    "    model = KMeans(n_clusters = K, random_state = Rstate).fit(train)\n",
    "    test['K-Means_cluster'] = model.fit_predict(test) ### 클러스터링 진행한 결과"
   ]
  },
  {
   "cell_type": "code",
   "execution_count": null,
   "metadata": {},
   "outputs": [
    {
     "name": "stderr",
     "output_type": "stream",
     "text": [
      "  0%|          | 0/10 [00:00<?, ?it/s]"
     ]
    },
    {
     "name": "stderr",
     "output_type": "stream",
     "text": [
      " 10%|█         | 1/10 [03:46<34:01, 226.87s/it]"
     ]
    },
    {
     "name": "stdout",
     "output_type": "stream",
     "text": [
      "0.8363829341322889\n"
     ]
    },
    {
     "name": "stderr",
     "output_type": "stream",
     "text": [
      " 20%|██        | 2/10 [08:52<36:24, 273.04s/it]"
     ]
    },
    {
     "name": "stdout",
     "output_type": "stream",
     "text": [
      "0.8693391230453171\n"
     ]
    },
    {
     "name": "stderr",
     "output_type": "stream",
     "text": [
      " 30%|███       | 3/10 [14:43<36:00, 308.68s/it]"
     ]
    },
    {
     "name": "stdout",
     "output_type": "stream",
     "text": [
      "0.8850293703134684\n"
     ]
    },
    {
     "name": "stderr",
     "output_type": "stream",
     "text": [
      " 40%|████      | 4/10 [21:25<34:34, 345.76s/it]"
     ]
    },
    {
     "name": "stdout",
     "output_type": "stream",
     "text": [
      "0.8944115192833721\n"
     ]
    },
    {
     "name": "stderr",
     "output_type": "stream",
     "text": [
      " 50%|█████     | 5/10 [29:49<33:33, 402.70s/it]"
     ]
    },
    {
     "name": "stdout",
     "output_type": "stream",
     "text": [
      "0.8987271881736815\n"
     ]
    },
    {
     "name": "stderr",
     "output_type": "stream",
     "text": [
      " 60%|██████    | 6/10 [39:46<31:14, 468.69s/it]"
     ]
    },
    {
     "name": "stdout",
     "output_type": "stream",
     "text": [
      "0.9040455181428501\n"
     ]
    },
    {
     "name": "stderr",
     "output_type": "stream",
     "text": [
      " 70%|███████   | 7/10 [51:26<27:13, 544.36s/it]"
     ]
    },
    {
     "name": "stdout",
     "output_type": "stream",
     "text": [
      "0.9065212648011631\n"
     ]
    },
    {
     "name": "stderr",
     "output_type": "stream",
     "text": [
      " 80%|████████  | 8/10 [1:05:32<21:20, 640.33s/it]"
     ]
    },
    {
     "name": "stdout",
     "output_type": "stream",
     "text": [
      "0.9096301469551302\n"
     ]
    },
    {
     "name": "stderr",
     "output_type": "stream",
     "text": [
      " 90%|█████████ | 9/10 [1:22:39<12:41, 761.40s/it]"
     ]
    },
    {
     "name": "stdout",
     "output_type": "stream",
     "text": [
      "0.9123316835315751\n"
     ]
    },
    {
     "name": "stderr",
     "output_type": "stream",
     "text": [
      "100%|██████████| 10/10 [1:45:24<00:00, 632.44s/it]"
     ]
    },
    {
     "name": "stdout",
     "output_type": "stream",
     "text": [
      "0.9145360740746505\n"
     ]
    },
    {
     "name": "stderr",
     "output_type": "stream",
     "text": [
      "\n"
     ]
    },
    {
     "data": {
      "application/vnd.plotly.v1+json": {
       "config": {
        "plotlyServerURL": "https://plot.ly"
       },
       "data": [
        {
         "hovertemplate": "x=%{x}<br>y=%{y}<extra></extra>",
         "legendgroup": "",
         "line": {
          "color": "#636efa",
          "dash": "solid"
         },
         "marker": {
          "symbol": "circle"
         },
         "mode": "lines",
         "name": "",
         "orientation": "v",
         "showlegend": false,
         "type": "scatter",
         "x": [
          20,
          70,
          120,
          170,
          220,
          270,
          320,
          370,
          420,
          470
         ],
         "xaxis": "x",
         "y": [
          0.8363829341322889,
          0.8693391230453171,
          0.8850293703134684,
          0.8944115192833721,
          0.8987271881736815,
          0.9040455181428501,
          0.9065212648011631,
          0.9096301469551302,
          0.9123316835315751,
          0.9145360740746505
         ],
         "yaxis": "y"
        }
       ],
       "layout": {
        "legend": {
         "tracegroupgap": 0
        },
        "template": {
         "data": {
          "bar": [
           {
            "error_x": {
             "color": "#2a3f5f"
            },
            "error_y": {
             "color": "#2a3f5f"
            },
            "marker": {
             "line": {
              "color": "#E5ECF6",
              "width": 0.5
             },
             "pattern": {
              "fillmode": "overlay",
              "size": 10,
              "solidity": 0.2
             }
            },
            "type": "bar"
           }
          ],
          "barpolar": [
           {
            "marker": {
             "line": {
              "color": "#E5ECF6",
              "width": 0.5
             },
             "pattern": {
              "fillmode": "overlay",
              "size": 10,
              "solidity": 0.2
             }
            },
            "type": "barpolar"
           }
          ],
          "carpet": [
           {
            "aaxis": {
             "endlinecolor": "#2a3f5f",
             "gridcolor": "white",
             "linecolor": "white",
             "minorgridcolor": "white",
             "startlinecolor": "#2a3f5f"
            },
            "baxis": {
             "endlinecolor": "#2a3f5f",
             "gridcolor": "white",
             "linecolor": "white",
             "minorgridcolor": "white",
             "startlinecolor": "#2a3f5f"
            },
            "type": "carpet"
           }
          ],
          "choropleth": [
           {
            "colorbar": {
             "outlinewidth": 0,
             "ticks": ""
            },
            "type": "choropleth"
           }
          ],
          "contour": [
           {
            "colorbar": {
             "outlinewidth": 0,
             "ticks": ""
            },
            "colorscale": [
             [
              0,
              "#0d0887"
             ],
             [
              0.1111111111111111,
              "#46039f"
             ],
             [
              0.2222222222222222,
              "#7201a8"
             ],
             [
              0.3333333333333333,
              "#9c179e"
             ],
             [
              0.4444444444444444,
              "#bd3786"
             ],
             [
              0.5555555555555556,
              "#d8576b"
             ],
             [
              0.6666666666666666,
              "#ed7953"
             ],
             [
              0.7777777777777778,
              "#fb9f3a"
             ],
             [
              0.8888888888888888,
              "#fdca26"
             ],
             [
              1,
              "#f0f921"
             ]
            ],
            "type": "contour"
           }
          ],
          "contourcarpet": [
           {
            "colorbar": {
             "outlinewidth": 0,
             "ticks": ""
            },
            "type": "contourcarpet"
           }
          ],
          "heatmap": [
           {
            "colorbar": {
             "outlinewidth": 0,
             "ticks": ""
            },
            "colorscale": [
             [
              0,
              "#0d0887"
             ],
             [
              0.1111111111111111,
              "#46039f"
             ],
             [
              0.2222222222222222,
              "#7201a8"
             ],
             [
              0.3333333333333333,
              "#9c179e"
             ],
             [
              0.4444444444444444,
              "#bd3786"
             ],
             [
              0.5555555555555556,
              "#d8576b"
             ],
             [
              0.6666666666666666,
              "#ed7953"
             ],
             [
              0.7777777777777778,
              "#fb9f3a"
             ],
             [
              0.8888888888888888,
              "#fdca26"
             ],
             [
              1,
              "#f0f921"
             ]
            ],
            "type": "heatmap"
           }
          ],
          "heatmapgl": [
           {
            "colorbar": {
             "outlinewidth": 0,
             "ticks": ""
            },
            "colorscale": [
             [
              0,
              "#0d0887"
             ],
             [
              0.1111111111111111,
              "#46039f"
             ],
             [
              0.2222222222222222,
              "#7201a8"
             ],
             [
              0.3333333333333333,
              "#9c179e"
             ],
             [
              0.4444444444444444,
              "#bd3786"
             ],
             [
              0.5555555555555556,
              "#d8576b"
             ],
             [
              0.6666666666666666,
              "#ed7953"
             ],
             [
              0.7777777777777778,
              "#fb9f3a"
             ],
             [
              0.8888888888888888,
              "#fdca26"
             ],
             [
              1,
              "#f0f921"
             ]
            ],
            "type": "heatmapgl"
           }
          ],
          "histogram": [
           {
            "marker": {
             "pattern": {
              "fillmode": "overlay",
              "size": 10,
              "solidity": 0.2
             }
            },
            "type": "histogram"
           }
          ],
          "histogram2d": [
           {
            "colorbar": {
             "outlinewidth": 0,
             "ticks": ""
            },
            "colorscale": [
             [
              0,
              "#0d0887"
             ],
             [
              0.1111111111111111,
              "#46039f"
             ],
             [
              0.2222222222222222,
              "#7201a8"
             ],
             [
              0.3333333333333333,
              "#9c179e"
             ],
             [
              0.4444444444444444,
              "#bd3786"
             ],
             [
              0.5555555555555556,
              "#d8576b"
             ],
             [
              0.6666666666666666,
              "#ed7953"
             ],
             [
              0.7777777777777778,
              "#fb9f3a"
             ],
             [
              0.8888888888888888,
              "#fdca26"
             ],
             [
              1,
              "#f0f921"
             ]
            ],
            "type": "histogram2d"
           }
          ],
          "histogram2dcontour": [
           {
            "colorbar": {
             "outlinewidth": 0,
             "ticks": ""
            },
            "colorscale": [
             [
              0,
              "#0d0887"
             ],
             [
              0.1111111111111111,
              "#46039f"
             ],
             [
              0.2222222222222222,
              "#7201a8"
             ],
             [
              0.3333333333333333,
              "#9c179e"
             ],
             [
              0.4444444444444444,
              "#bd3786"
             ],
             [
              0.5555555555555556,
              "#d8576b"
             ],
             [
              0.6666666666666666,
              "#ed7953"
             ],
             [
              0.7777777777777778,
              "#fb9f3a"
             ],
             [
              0.8888888888888888,
              "#fdca26"
             ],
             [
              1,
              "#f0f921"
             ]
            ],
            "type": "histogram2dcontour"
           }
          ],
          "mesh3d": [
           {
            "colorbar": {
             "outlinewidth": 0,
             "ticks": ""
            },
            "type": "mesh3d"
           }
          ],
          "parcoords": [
           {
            "line": {
             "colorbar": {
              "outlinewidth": 0,
              "ticks": ""
             }
            },
            "type": "parcoords"
           }
          ],
          "pie": [
           {
            "automargin": true,
            "type": "pie"
           }
          ],
          "scatter": [
           {
            "fillpattern": {
             "fillmode": "overlay",
             "size": 10,
             "solidity": 0.2
            },
            "type": "scatter"
           }
          ],
          "scatter3d": [
           {
            "line": {
             "colorbar": {
              "outlinewidth": 0,
              "ticks": ""
             }
            },
            "marker": {
             "colorbar": {
              "outlinewidth": 0,
              "ticks": ""
             }
            },
            "type": "scatter3d"
           }
          ],
          "scattercarpet": [
           {
            "marker": {
             "colorbar": {
              "outlinewidth": 0,
              "ticks": ""
             }
            },
            "type": "scattercarpet"
           }
          ],
          "scattergeo": [
           {
            "marker": {
             "colorbar": {
              "outlinewidth": 0,
              "ticks": ""
             }
            },
            "type": "scattergeo"
           }
          ],
          "scattergl": [
           {
            "marker": {
             "colorbar": {
              "outlinewidth": 0,
              "ticks": ""
             }
            },
            "type": "scattergl"
           }
          ],
          "scattermapbox": [
           {
            "marker": {
             "colorbar": {
              "outlinewidth": 0,
              "ticks": ""
             }
            },
            "type": "scattermapbox"
           }
          ],
          "scatterpolar": [
           {
            "marker": {
             "colorbar": {
              "outlinewidth": 0,
              "ticks": ""
             }
            },
            "type": "scatterpolar"
           }
          ],
          "scatterpolargl": [
           {
            "marker": {
             "colorbar": {
              "outlinewidth": 0,
              "ticks": ""
             }
            },
            "type": "scatterpolargl"
           }
          ],
          "scatterternary": [
           {
            "marker": {
             "colorbar": {
              "outlinewidth": 0,
              "ticks": ""
             }
            },
            "type": "scatterternary"
           }
          ],
          "surface": [
           {
            "colorbar": {
             "outlinewidth": 0,
             "ticks": ""
            },
            "colorscale": [
             [
              0,
              "#0d0887"
             ],
             [
              0.1111111111111111,
              "#46039f"
             ],
             [
              0.2222222222222222,
              "#7201a8"
             ],
             [
              0.3333333333333333,
              "#9c179e"
             ],
             [
              0.4444444444444444,
              "#bd3786"
             ],
             [
              0.5555555555555556,
              "#d8576b"
             ],
             [
              0.6666666666666666,
              "#ed7953"
             ],
             [
              0.7777777777777778,
              "#fb9f3a"
             ],
             [
              0.8888888888888888,
              "#fdca26"
             ],
             [
              1,
              "#f0f921"
             ]
            ],
            "type": "surface"
           }
          ],
          "table": [
           {
            "cells": {
             "fill": {
              "color": "#EBF0F8"
             },
             "line": {
              "color": "white"
             }
            },
            "header": {
             "fill": {
              "color": "#C8D4E3"
             },
             "line": {
              "color": "white"
             }
            },
            "type": "table"
           }
          ]
         },
         "layout": {
          "annotationdefaults": {
           "arrowcolor": "#2a3f5f",
           "arrowhead": 0,
           "arrowwidth": 1
          },
          "autotypenumbers": "strict",
          "coloraxis": {
           "colorbar": {
            "outlinewidth": 0,
            "ticks": ""
           }
          },
          "colorscale": {
           "diverging": [
            [
             0,
             "#8e0152"
            ],
            [
             0.1,
             "#c51b7d"
            ],
            [
             0.2,
             "#de77ae"
            ],
            [
             0.3,
             "#f1b6da"
            ],
            [
             0.4,
             "#fde0ef"
            ],
            [
             0.5,
             "#f7f7f7"
            ],
            [
             0.6,
             "#e6f5d0"
            ],
            [
             0.7,
             "#b8e186"
            ],
            [
             0.8,
             "#7fbc41"
            ],
            [
             0.9,
             "#4d9221"
            ],
            [
             1,
             "#276419"
            ]
           ],
           "sequential": [
            [
             0,
             "#0d0887"
            ],
            [
             0.1111111111111111,
             "#46039f"
            ],
            [
             0.2222222222222222,
             "#7201a8"
            ],
            [
             0.3333333333333333,
             "#9c179e"
            ],
            [
             0.4444444444444444,
             "#bd3786"
            ],
            [
             0.5555555555555556,
             "#d8576b"
            ],
            [
             0.6666666666666666,
             "#ed7953"
            ],
            [
             0.7777777777777778,
             "#fb9f3a"
            ],
            [
             0.8888888888888888,
             "#fdca26"
            ],
            [
             1,
             "#f0f921"
            ]
           ],
           "sequentialminus": [
            [
             0,
             "#0d0887"
            ],
            [
             0.1111111111111111,
             "#46039f"
            ],
            [
             0.2222222222222222,
             "#7201a8"
            ],
            [
             0.3333333333333333,
             "#9c179e"
            ],
            [
             0.4444444444444444,
             "#bd3786"
            ],
            [
             0.5555555555555556,
             "#d8576b"
            ],
            [
             0.6666666666666666,
             "#ed7953"
            ],
            [
             0.7777777777777778,
             "#fb9f3a"
            ],
            [
             0.8888888888888888,
             "#fdca26"
            ],
            [
             1,
             "#f0f921"
            ]
           ]
          },
          "colorway": [
           "#636efa",
           "#EF553B",
           "#00cc96",
           "#ab63fa",
           "#FFA15A",
           "#19d3f3",
           "#FF6692",
           "#B6E880",
           "#FF97FF",
           "#FECB52"
          ],
          "font": {
           "color": "#2a3f5f"
          },
          "geo": {
           "bgcolor": "white",
           "lakecolor": "white",
           "landcolor": "#E5ECF6",
           "showlakes": true,
           "showland": true,
           "subunitcolor": "white"
          },
          "hoverlabel": {
           "align": "left"
          },
          "hovermode": "closest",
          "mapbox": {
           "style": "light"
          },
          "paper_bgcolor": "white",
          "plot_bgcolor": "#E5ECF6",
          "polar": {
           "angularaxis": {
            "gridcolor": "white",
            "linecolor": "white",
            "ticks": ""
           },
           "bgcolor": "#E5ECF6",
           "radialaxis": {
            "gridcolor": "white",
            "linecolor": "white",
            "ticks": ""
           }
          },
          "scene": {
           "xaxis": {
            "backgroundcolor": "#E5ECF6",
            "gridcolor": "white",
            "gridwidth": 2,
            "linecolor": "white",
            "showbackground": true,
            "ticks": "",
            "zerolinecolor": "white"
           },
           "yaxis": {
            "backgroundcolor": "#E5ECF6",
            "gridcolor": "white",
            "gridwidth": 2,
            "linecolor": "white",
            "showbackground": true,
            "ticks": "",
            "zerolinecolor": "white"
           },
           "zaxis": {
            "backgroundcolor": "#E5ECF6",
            "gridcolor": "white",
            "gridwidth": 2,
            "linecolor": "white",
            "showbackground": true,
            "ticks": "",
            "zerolinecolor": "white"
           }
          },
          "shapedefaults": {
           "line": {
            "color": "#2a3f5f"
           }
          },
          "ternary": {
           "aaxis": {
            "gridcolor": "white",
            "linecolor": "white",
            "ticks": ""
           },
           "baxis": {
            "gridcolor": "white",
            "linecolor": "white",
            "ticks": ""
           },
           "bgcolor": "#E5ECF6",
           "caxis": {
            "gridcolor": "white",
            "linecolor": "white",
            "ticks": ""
           }
          },
          "title": {
           "x": 0.05
          },
          "xaxis": {
           "automargin": true,
           "gridcolor": "white",
           "linecolor": "white",
           "ticks": "",
           "title": {
            "standoff": 15
           },
           "zerolinecolor": "white",
           "zerolinewidth": 2
          },
          "yaxis": {
           "automargin": true,
           "gridcolor": "white",
           "linecolor": "white",
           "ticks": "",
           "title": {
            "standoff": 15
           },
           "zerolinecolor": "white",
           "zerolinewidth": 2
          }
         }
        },
        "title": {
         "text": "Silhouette Score by K"
        },
        "xaxis": {
         "anchor": "y",
         "domain": [
          0,
          1
         ],
         "title": {
          "text": "x"
         }
        },
        "yaxis": {
         "anchor": "x",
         "domain": [
          0,
          1
         ],
         "title": {
          "text": "y"
         }
        }
       }
      }
     },
     "metadata": {},
     "output_type": "display_data"
    }
   ],
   "source": [
    "for i in tqdm(range(20, 501, 50)):\n",
    "    clusterModel(i, 8, nonlog_minmax_train, nonlog_minmax_test)\n",
    "px.line(x=list(scoretable.keys()), y=list(scoretable.values()), title='Silhouette Score by K')"
   ]
  },
  {
   "cell_type": "markdown",
   "metadata": {},
   "source": [
    "#### (3) Training Model"
   ]
  },
  {
   "cell_type": "code",
   "execution_count": 10,
   "metadata": {},
   "outputs": [],
   "source": [
    "df_total = pd.read_csv('./data/vehicles_prerocessing_final.csv')"
   ]
  },
  {
   "cell_type": "code",
   "execution_count": 11,
   "metadata": {},
   "outputs": [
    {
     "data": {
      "text/html": [
       "<div>\n",
       "<style scoped>\n",
       "    .dataframe tbody tr th:only-of-type {\n",
       "        vertical-align: middle;\n",
       "    }\n",
       "\n",
       "    .dataframe tbody tr th {\n",
       "        vertical-align: top;\n",
       "    }\n",
       "\n",
       "    .dataframe thead th {\n",
       "        text-align: right;\n",
       "    }\n",
       "</style>\n",
       "<table border=\"1\" class=\"dataframe\">\n",
       "  <thead>\n",
       "    <tr style=\"text-align: right;\">\n",
       "      <th></th>\n",
       "      <th>Unnamed: 0</th>\n",
       "      <th>index_original</th>\n",
       "      <th>year_original</th>\n",
       "      <th>make_original</th>\n",
       "      <th>vin_original</th>\n",
       "      <th>condition_original</th>\n",
       "      <th>odometer_original</th>\n",
       "      <th>mmr_original</th>\n",
       "      <th>sellingprice_original</th>\n",
       "      <th>year</th>\n",
       "      <th>...</th>\n",
       "      <th>mmr</th>\n",
       "      <th>sellingprice</th>\n",
       "      <th>sellingprice_log</th>\n",
       "      <th>odometer_log</th>\n",
       "      <th>mmr_log</th>\n",
       "      <th>index_x</th>\n",
       "      <th>index_y</th>\n",
       "      <th>color</th>\n",
       "      <th>interior</th>\n",
       "      <th>K-Means_cluster</th>\n",
       "    </tr>\n",
       "  </thead>\n",
       "  <tbody>\n",
       "    <tr>\n",
       "      <th>0</th>\n",
       "      <td>0</td>\n",
       "      <td>0</td>\n",
       "      <td>2015</td>\n",
       "      <td>Kia</td>\n",
       "      <td>5xyktca69fg566472</td>\n",
       "      <td>5.00</td>\n",
       "      <td>16639.00</td>\n",
       "      <td>20500</td>\n",
       "      <td>21500</td>\n",
       "      <td>1.00</td>\n",
       "      <td>...</td>\n",
       "      <td>0.46</td>\n",
       "      <td>0.47</td>\n",
       "      <td>0.68</td>\n",
       "      <td>0.38</td>\n",
       "      <td>0.67</td>\n",
       "      <td>0</td>\n",
       "      <td>0</td>\n",
       "      <td>white</td>\n",
       "      <td>black</td>\n",
       "      <td>426</td>\n",
       "    </tr>\n",
       "    <tr>\n",
       "      <th>1</th>\n",
       "      <td>1</td>\n",
       "      <td>1</td>\n",
       "      <td>2015</td>\n",
       "      <td>Kia</td>\n",
       "      <td>5xyktca69fg561319</td>\n",
       "      <td>5.00</td>\n",
       "      <td>9393.00</td>\n",
       "      <td>20800</td>\n",
       "      <td>21500</td>\n",
       "      <td>1.00</td>\n",
       "      <td>...</td>\n",
       "      <td>0.47</td>\n",
       "      <td>0.47</td>\n",
       "      <td>0.68</td>\n",
       "      <td>0.31</td>\n",
       "      <td>0.68</td>\n",
       "      <td>1</td>\n",
       "      <td>1</td>\n",
       "      <td>white</td>\n",
       "      <td>beige</td>\n",
       "      <td>426</td>\n",
       "    </tr>\n",
       "    <tr>\n",
       "      <th>2</th>\n",
       "      <td>2</td>\n",
       "      <td>2</td>\n",
       "      <td>2014</td>\n",
       "      <td>BMW</td>\n",
       "      <td>wba3c1c51ek116351</td>\n",
       "      <td>4.50</td>\n",
       "      <td>1331.00</td>\n",
       "      <td>31900</td>\n",
       "      <td>30000</td>\n",
       "      <td>0.96</td>\n",
       "      <td>...</td>\n",
       "      <td>0.71</td>\n",
       "      <td>0.66</td>\n",
       "      <td>0.81</td>\n",
       "      <td>0.16</td>\n",
       "      <td>0.84</td>\n",
       "      <td>2</td>\n",
       "      <td>2</td>\n",
       "      <td>gray</td>\n",
       "      <td>black</td>\n",
       "      <td>305</td>\n",
       "    </tr>\n",
       "    <tr>\n",
       "      <th>3</th>\n",
       "      <td>3</td>\n",
       "      <td>3</td>\n",
       "      <td>2015</td>\n",
       "      <td>Volvo</td>\n",
       "      <td>yv1612tb4f1310987</td>\n",
       "      <td>4.10</td>\n",
       "      <td>14282.00</td>\n",
       "      <td>27500</td>\n",
       "      <td>27750</td>\n",
       "      <td>1.00</td>\n",
       "      <td>...</td>\n",
       "      <td>0.61</td>\n",
       "      <td>0.61</td>\n",
       "      <td>0.77</td>\n",
       "      <td>0.36</td>\n",
       "      <td>0.78</td>\n",
       "      <td>3</td>\n",
       "      <td>3</td>\n",
       "      <td>white</td>\n",
       "      <td>black</td>\n",
       "      <td>272</td>\n",
       "    </tr>\n",
       "    <tr>\n",
       "      <th>4</th>\n",
       "      <td>4</td>\n",
       "      <td>4</td>\n",
       "      <td>2015</td>\n",
       "      <td>Nissan</td>\n",
       "      <td>1n4al3ap1fn326013</td>\n",
       "      <td>1.00</td>\n",
       "      <td>5554.00</td>\n",
       "      <td>15350</td>\n",
       "      <td>10900</td>\n",
       "      <td>1.00</td>\n",
       "      <td>...</td>\n",
       "      <td>0.34</td>\n",
       "      <td>0.24</td>\n",
       "      <td>0.48</td>\n",
       "      <td>0.26</td>\n",
       "      <td>0.58</td>\n",
       "      <td>4</td>\n",
       "      <td>4</td>\n",
       "      <td>gray</td>\n",
       "      <td>black</td>\n",
       "      <td>347</td>\n",
       "    </tr>\n",
       "    <tr>\n",
       "      <th>...</th>\n",
       "      <td>...</td>\n",
       "      <td>...</td>\n",
       "      <td>...</td>\n",
       "      <td>...</td>\n",
       "      <td>...</td>\n",
       "      <td>...</td>\n",
       "      <td>...</td>\n",
       "      <td>...</td>\n",
       "      <td>...</td>\n",
       "      <td>...</td>\n",
       "      <td>...</td>\n",
       "      <td>...</td>\n",
       "      <td>...</td>\n",
       "      <td>...</td>\n",
       "      <td>...</td>\n",
       "      <td>...</td>\n",
       "      <td>...</td>\n",
       "      <td>...</td>\n",
       "      <td>...</td>\n",
       "      <td>...</td>\n",
       "      <td>...</td>\n",
       "    </tr>\n",
       "    <tr>\n",
       "      <th>434980</th>\n",
       "      <td>434980</td>\n",
       "      <td>466252</td>\n",
       "      <td>2011</td>\n",
       "      <td>BMW</td>\n",
       "      <td>wbafr1c53bc744672</td>\n",
       "      <td>3.90</td>\n",
       "      <td>66403.00</td>\n",
       "      <td>20300</td>\n",
       "      <td>22800</td>\n",
       "      <td>0.84</td>\n",
       "      <td>...</td>\n",
       "      <td>0.45</td>\n",
       "      <td>0.50</td>\n",
       "      <td>0.70</td>\n",
       "      <td>0.62</td>\n",
       "      <td>0.67</td>\n",
       "      <td>466252</td>\n",
       "      <td>466252</td>\n",
       "      <td>white</td>\n",
       "      <td>other</td>\n",
       "      <td>35</td>\n",
       "    </tr>\n",
       "    <tr>\n",
       "      <th>434981</th>\n",
       "      <td>434981</td>\n",
       "      <td>466253</td>\n",
       "      <td>2012</td>\n",
       "      <td>Ram</td>\n",
       "      <td>3c6td5et6cg112407</td>\n",
       "      <td>5.00</td>\n",
       "      <td>54393.00</td>\n",
       "      <td>30200</td>\n",
       "      <td>30800</td>\n",
       "      <td>0.88</td>\n",
       "      <td>...</td>\n",
       "      <td>0.68</td>\n",
       "      <td>0.67</td>\n",
       "      <td>0.82</td>\n",
       "      <td>0.58</td>\n",
       "      <td>0.82</td>\n",
       "      <td>466253</td>\n",
       "      <td>466253</td>\n",
       "      <td>white</td>\n",
       "      <td>black</td>\n",
       "      <td>267</td>\n",
       "    </tr>\n",
       "    <tr>\n",
       "      <th>434982</th>\n",
       "      <td>434982</td>\n",
       "      <td>466254</td>\n",
       "      <td>2012</td>\n",
       "      <td>BMW</td>\n",
       "      <td>5uxzw0c58cl668465</td>\n",
       "      <td>4.80</td>\n",
       "      <td>50561.00</td>\n",
       "      <td>29800</td>\n",
       "      <td>34000</td>\n",
       "      <td>0.88</td>\n",
       "      <td>...</td>\n",
       "      <td>0.67</td>\n",
       "      <td>0.74</td>\n",
       "      <td>0.86</td>\n",
       "      <td>0.56</td>\n",
       "      <td>0.81</td>\n",
       "      <td>466254</td>\n",
       "      <td>466254</td>\n",
       "      <td>black</td>\n",
       "      <td>black</td>\n",
       "      <td>267</td>\n",
       "    </tr>\n",
       "    <tr>\n",
       "      <th>434983</th>\n",
       "      <td>434983</td>\n",
       "      <td>466255</td>\n",
       "      <td>2015</td>\n",
       "      <td>Nissan</td>\n",
       "      <td>1n4al3ap0fc216050</td>\n",
       "      <td>3.80</td>\n",
       "      <td>16658.00</td>\n",
       "      <td>15100</td>\n",
       "      <td>11100</td>\n",
       "      <td>1.00</td>\n",
       "      <td>...</td>\n",
       "      <td>0.34</td>\n",
       "      <td>0.24</td>\n",
       "      <td>0.48</td>\n",
       "      <td>0.38</td>\n",
       "      <td>0.57</td>\n",
       "      <td>466255</td>\n",
       "      <td>466255</td>\n",
       "      <td>white</td>\n",
       "      <td>black</td>\n",
       "      <td>63</td>\n",
       "    </tr>\n",
       "    <tr>\n",
       "      <th>434984</th>\n",
       "      <td>434984</td>\n",
       "      <td>466256</td>\n",
       "      <td>2014</td>\n",
       "      <td>Ford</td>\n",
       "      <td>1ftfw1et2eke87277</td>\n",
       "      <td>3.40</td>\n",
       "      <td>15008.00</td>\n",
       "      <td>29600</td>\n",
       "      <td>26700</td>\n",
       "      <td>0.96</td>\n",
       "      <td>...</td>\n",
       "      <td>0.66</td>\n",
       "      <td>0.58</td>\n",
       "      <td>0.76</td>\n",
       "      <td>0.37</td>\n",
       "      <td>0.81</td>\n",
       "      <td>466256</td>\n",
       "      <td>466256</td>\n",
       "      <td>gray</td>\n",
       "      <td>gray</td>\n",
       "      <td>5</td>\n",
       "    </tr>\n",
       "  </tbody>\n",
       "</table>\n",
       "<p>434985 rows × 22 columns</p>\n",
       "</div>"
      ],
      "text/plain": [
       "        Unnamed: 0  index_original  year_original make_original  \\\n",
       "0                0               0           2015           Kia   \n",
       "1                1               1           2015           Kia   \n",
       "2                2               2           2014           BMW   \n",
       "3                3               3           2015         Volvo   \n",
       "4                4               4           2015        Nissan   \n",
       "...            ...             ...            ...           ...   \n",
       "434980      434980          466252           2011           BMW   \n",
       "434981      434981          466253           2012           Ram   \n",
       "434982      434982          466254           2012           BMW   \n",
       "434983      434983          466255           2015        Nissan   \n",
       "434984      434984          466256           2014          Ford   \n",
       "\n",
       "             vin_original  condition_original  odometer_original  \\\n",
       "0       5xyktca69fg566472                5.00           16639.00   \n",
       "1       5xyktca69fg561319                5.00            9393.00   \n",
       "2       wba3c1c51ek116351                4.50            1331.00   \n",
       "3       yv1612tb4f1310987                4.10           14282.00   \n",
       "4       1n4al3ap1fn326013                1.00            5554.00   \n",
       "...                   ...                 ...                ...   \n",
       "434980  wbafr1c53bc744672                3.90           66403.00   \n",
       "434981  3c6td5et6cg112407                5.00           54393.00   \n",
       "434982  5uxzw0c58cl668465                4.80           50561.00   \n",
       "434983  1n4al3ap0fc216050                3.80           16658.00   \n",
       "434984  1ftfw1et2eke87277                3.40           15008.00   \n",
       "\n",
       "        mmr_original  sellingprice_original  year  ...  mmr  sellingprice  \\\n",
       "0              20500                  21500  1.00  ... 0.46          0.47   \n",
       "1              20800                  21500  1.00  ... 0.47          0.47   \n",
       "2              31900                  30000  0.96  ... 0.71          0.66   \n",
       "3              27500                  27750  1.00  ... 0.61          0.61   \n",
       "4              15350                  10900  1.00  ... 0.34          0.24   \n",
       "...              ...                    ...   ...  ...  ...           ...   \n",
       "434980         20300                  22800  0.84  ... 0.45          0.50   \n",
       "434981         30200                  30800  0.88  ... 0.68          0.67   \n",
       "434982         29800                  34000  0.88  ... 0.67          0.74   \n",
       "434983         15100                  11100  1.00  ... 0.34          0.24   \n",
       "434984         29600                  26700  0.96  ... 0.66          0.58   \n",
       "\n",
       "        sellingprice_log  odometer_log  mmr_log  index_x  index_y  color  \\\n",
       "0                   0.68          0.38     0.67        0        0  white   \n",
       "1                   0.68          0.31     0.68        1        1  white   \n",
       "2                   0.81          0.16     0.84        2        2   gray   \n",
       "3                   0.77          0.36     0.78        3        3  white   \n",
       "4                   0.48          0.26     0.58        4        4   gray   \n",
       "...                  ...           ...      ...      ...      ...    ...   \n",
       "434980              0.70          0.62     0.67   466252   466252  white   \n",
       "434981              0.82          0.58     0.82   466253   466253  white   \n",
       "434982              0.86          0.56     0.81   466254   466254  black   \n",
       "434983              0.48          0.38     0.57   466255   466255  white   \n",
       "434984              0.76          0.37     0.81   466256   466256   gray   \n",
       "\n",
       "        interior K-Means_cluster  \n",
       "0          black             426  \n",
       "1          beige             426  \n",
       "2          black             305  \n",
       "3          black             272  \n",
       "4          black             347  \n",
       "...          ...             ...  \n",
       "434980     other              35  \n",
       "434981     black             267  \n",
       "434982     black             267  \n",
       "434983     black              63  \n",
       "434984      gray               5  \n",
       "\n",
       "[434985 rows x 22 columns]"
      ]
     },
     "execution_count": 11,
     "metadata": {},
     "output_type": "execute_result"
    }
   ],
   "source": [
    "df_total"
   ]
  },
  {
   "cell_type": "code",
   "execution_count": 12,
   "metadata": {},
   "outputs": [
    {
     "data": {
      "text/plain": [
       "Index(['Unnamed: 0', 'index_original', 'year_original', 'make_original',\n",
       "       'vin_original', 'condition_original', 'odometer_original',\n",
       "       'mmr_original', 'sellingprice_original', 'year', 'condition',\n",
       "       'odometer', 'mmr', 'sellingprice', 'sellingprice_log', 'odometer_log',\n",
       "       'mmr_log', 'index_x', 'index_y', 'color', 'interior',\n",
       "       'K-Means_cluster'],\n",
       "      dtype='object')"
      ]
     },
     "execution_count": 12,
     "metadata": {},
     "output_type": "execute_result"
    }
   ],
   "source": [
    "df_total.columns"
   ]
  },
  {
   "cell_type": "markdown",
   "metadata": {},
   "source": [
    "#### (4) Data Labeling with Clustering"
   ]
  },
  {
   "cell_type": "code",
   "execution_count": null,
   "metadata": {},
   "outputs": [],
   "source": [
    "K = 500\n",
    "cluster_data = df_total_minmax[['year','condition','sellingprice', 'odometer', 'mmr']].copy()\n",
    "\n",
    "model = KMeans(n_clusters = K, random_state = 8).fit(cluster_data)"
   ]
  },
  {
   "cell_type": "code",
   "execution_count": null,
   "metadata": {},
   "outputs": [
    {
     "data": {
      "text/html": [
       "<div>\n",
       "<style scoped>\n",
       "    .dataframe tbody tr th:only-of-type {\n",
       "        vertical-align: middle;\n",
       "    }\n",
       "\n",
       "    .dataframe tbody tr th {\n",
       "        vertical-align: top;\n",
       "    }\n",
       "\n",
       "    .dataframe thead th {\n",
       "        text-align: right;\n",
       "    }\n",
       "</style>\n",
       "<table border=\"1\" class=\"dataframe\">\n",
       "  <thead>\n",
       "    <tr style=\"text-align: right;\">\n",
       "      <th></th>\n",
       "      <th>index_original</th>\n",
       "      <th>year_original</th>\n",
       "      <th>make_original</th>\n",
       "      <th>vin_original</th>\n",
       "      <th>condition_original</th>\n",
       "      <th>odometer_original</th>\n",
       "      <th>mmr_original</th>\n",
       "      <th>sellingprice_original</th>\n",
       "      <th>year</th>\n",
       "      <th>condition</th>\n",
       "      <th>...</th>\n",
       "      <th>mmr</th>\n",
       "      <th>sellingprice</th>\n",
       "      <th>sellingprice_log</th>\n",
       "      <th>odometer_log</th>\n",
       "      <th>mmr_log</th>\n",
       "      <th>index_x</th>\n",
       "      <th>index_y</th>\n",
       "      <th>color</th>\n",
       "      <th>interior</th>\n",
       "      <th>K-Means_cluster</th>\n",
       "    </tr>\n",
       "  </thead>\n",
       "  <tbody>\n",
       "    <tr>\n",
       "      <th>0</th>\n",
       "      <td>0</td>\n",
       "      <td>2015</td>\n",
       "      <td>Kia</td>\n",
       "      <td>5xyktca69fg566472</td>\n",
       "      <td>5.00</td>\n",
       "      <td>16639.00</td>\n",
       "      <td>20500</td>\n",
       "      <td>21500</td>\n",
       "      <td>1.00</td>\n",
       "      <td>1.00</td>\n",
       "      <td>...</td>\n",
       "      <td>0.46</td>\n",
       "      <td>0.47</td>\n",
       "      <td>0.68</td>\n",
       "      <td>0.38</td>\n",
       "      <td>0.67</td>\n",
       "      <td>0</td>\n",
       "      <td>0</td>\n",
       "      <td>white</td>\n",
       "      <td>black</td>\n",
       "      <td>426</td>\n",
       "    </tr>\n",
       "    <tr>\n",
       "      <th>1</th>\n",
       "      <td>1</td>\n",
       "      <td>2015</td>\n",
       "      <td>Kia</td>\n",
       "      <td>5xyktca69fg561319</td>\n",
       "      <td>5.00</td>\n",
       "      <td>9393.00</td>\n",
       "      <td>20800</td>\n",
       "      <td>21500</td>\n",
       "      <td>1.00</td>\n",
       "      <td>1.00</td>\n",
       "      <td>...</td>\n",
       "      <td>0.47</td>\n",
       "      <td>0.47</td>\n",
       "      <td>0.68</td>\n",
       "      <td>0.31</td>\n",
       "      <td>0.68</td>\n",
       "      <td>1</td>\n",
       "      <td>1</td>\n",
       "      <td>white</td>\n",
       "      <td>beige</td>\n",
       "      <td>426</td>\n",
       "    </tr>\n",
       "    <tr>\n",
       "      <th>2</th>\n",
       "      <td>2</td>\n",
       "      <td>2014</td>\n",
       "      <td>BMW</td>\n",
       "      <td>wba3c1c51ek116351</td>\n",
       "      <td>4.50</td>\n",
       "      <td>1331.00</td>\n",
       "      <td>31900</td>\n",
       "      <td>30000</td>\n",
       "      <td>0.96</td>\n",
       "      <td>0.88</td>\n",
       "      <td>...</td>\n",
       "      <td>0.71</td>\n",
       "      <td>0.66</td>\n",
       "      <td>0.81</td>\n",
       "      <td>0.16</td>\n",
       "      <td>0.84</td>\n",
       "      <td>2</td>\n",
       "      <td>2</td>\n",
       "      <td>gray</td>\n",
       "      <td>black</td>\n",
       "      <td>305</td>\n",
       "    </tr>\n",
       "    <tr>\n",
       "      <th>3</th>\n",
       "      <td>3</td>\n",
       "      <td>2015</td>\n",
       "      <td>Volvo</td>\n",
       "      <td>yv1612tb4f1310987</td>\n",
       "      <td>4.10</td>\n",
       "      <td>14282.00</td>\n",
       "      <td>27500</td>\n",
       "      <td>27750</td>\n",
       "      <td>1.00</td>\n",
       "      <td>0.77</td>\n",
       "      <td>...</td>\n",
       "      <td>0.61</td>\n",
       "      <td>0.61</td>\n",
       "      <td>0.77</td>\n",
       "      <td>0.36</td>\n",
       "      <td>0.78</td>\n",
       "      <td>3</td>\n",
       "      <td>3</td>\n",
       "      <td>white</td>\n",
       "      <td>black</td>\n",
       "      <td>272</td>\n",
       "    </tr>\n",
       "    <tr>\n",
       "      <th>4</th>\n",
       "      <td>4</td>\n",
       "      <td>2015</td>\n",
       "      <td>Nissan</td>\n",
       "      <td>1n4al3ap1fn326013</td>\n",
       "      <td>1.00</td>\n",
       "      <td>5554.00</td>\n",
       "      <td>15350</td>\n",
       "      <td>10900</td>\n",
       "      <td>1.00</td>\n",
       "      <td>0.00</td>\n",
       "      <td>...</td>\n",
       "      <td>0.34</td>\n",
       "      <td>0.24</td>\n",
       "      <td>0.48</td>\n",
       "      <td>0.26</td>\n",
       "      <td>0.58</td>\n",
       "      <td>4</td>\n",
       "      <td>4</td>\n",
       "      <td>gray</td>\n",
       "      <td>black</td>\n",
       "      <td>347</td>\n",
       "    </tr>\n",
       "    <tr>\n",
       "      <th>...</th>\n",
       "      <td>...</td>\n",
       "      <td>...</td>\n",
       "      <td>...</td>\n",
       "      <td>...</td>\n",
       "      <td>...</td>\n",
       "      <td>...</td>\n",
       "      <td>...</td>\n",
       "      <td>...</td>\n",
       "      <td>...</td>\n",
       "      <td>...</td>\n",
       "      <td>...</td>\n",
       "      <td>...</td>\n",
       "      <td>...</td>\n",
       "      <td>...</td>\n",
       "      <td>...</td>\n",
       "      <td>...</td>\n",
       "      <td>...</td>\n",
       "      <td>...</td>\n",
       "      <td>...</td>\n",
       "      <td>...</td>\n",
       "      <td>...</td>\n",
       "    </tr>\n",
       "    <tr>\n",
       "      <th>434980</th>\n",
       "      <td>466252</td>\n",
       "      <td>2011</td>\n",
       "      <td>BMW</td>\n",
       "      <td>wbafr1c53bc744672</td>\n",
       "      <td>3.90</td>\n",
       "      <td>66403.00</td>\n",
       "      <td>20300</td>\n",
       "      <td>22800</td>\n",
       "      <td>0.84</td>\n",
       "      <td>0.72</td>\n",
       "      <td>...</td>\n",
       "      <td>0.45</td>\n",
       "      <td>0.50</td>\n",
       "      <td>0.70</td>\n",
       "      <td>0.62</td>\n",
       "      <td>0.67</td>\n",
       "      <td>466252</td>\n",
       "      <td>466252</td>\n",
       "      <td>white</td>\n",
       "      <td>other</td>\n",
       "      <td>35</td>\n",
       "    </tr>\n",
       "    <tr>\n",
       "      <th>434981</th>\n",
       "      <td>466253</td>\n",
       "      <td>2012</td>\n",
       "      <td>Ram</td>\n",
       "      <td>3c6td5et6cg112407</td>\n",
       "      <td>5.00</td>\n",
       "      <td>54393.00</td>\n",
       "      <td>30200</td>\n",
       "      <td>30800</td>\n",
       "      <td>0.88</td>\n",
       "      <td>1.00</td>\n",
       "      <td>...</td>\n",
       "      <td>0.68</td>\n",
       "      <td>0.67</td>\n",
       "      <td>0.82</td>\n",
       "      <td>0.58</td>\n",
       "      <td>0.82</td>\n",
       "      <td>466253</td>\n",
       "      <td>466253</td>\n",
       "      <td>white</td>\n",
       "      <td>black</td>\n",
       "      <td>267</td>\n",
       "    </tr>\n",
       "    <tr>\n",
       "      <th>434982</th>\n",
       "      <td>466254</td>\n",
       "      <td>2012</td>\n",
       "      <td>BMW</td>\n",
       "      <td>5uxzw0c58cl668465</td>\n",
       "      <td>4.80</td>\n",
       "      <td>50561.00</td>\n",
       "      <td>29800</td>\n",
       "      <td>34000</td>\n",
       "      <td>0.88</td>\n",
       "      <td>0.95</td>\n",
       "      <td>...</td>\n",
       "      <td>0.67</td>\n",
       "      <td>0.74</td>\n",
       "      <td>0.86</td>\n",
       "      <td>0.56</td>\n",
       "      <td>0.81</td>\n",
       "      <td>466254</td>\n",
       "      <td>466254</td>\n",
       "      <td>black</td>\n",
       "      <td>black</td>\n",
       "      <td>267</td>\n",
       "    </tr>\n",
       "    <tr>\n",
       "      <th>434983</th>\n",
       "      <td>466255</td>\n",
       "      <td>2015</td>\n",
       "      <td>Nissan</td>\n",
       "      <td>1n4al3ap0fc216050</td>\n",
       "      <td>3.80</td>\n",
       "      <td>16658.00</td>\n",
       "      <td>15100</td>\n",
       "      <td>11100</td>\n",
       "      <td>1.00</td>\n",
       "      <td>0.70</td>\n",
       "      <td>...</td>\n",
       "      <td>0.34</td>\n",
       "      <td>0.24</td>\n",
       "      <td>0.48</td>\n",
       "      <td>0.38</td>\n",
       "      <td>0.57</td>\n",
       "      <td>466255</td>\n",
       "      <td>466255</td>\n",
       "      <td>white</td>\n",
       "      <td>black</td>\n",
       "      <td>63</td>\n",
       "    </tr>\n",
       "    <tr>\n",
       "      <th>434984</th>\n",
       "      <td>466256</td>\n",
       "      <td>2014</td>\n",
       "      <td>Ford</td>\n",
       "      <td>1ftfw1et2eke87277</td>\n",
       "      <td>3.40</td>\n",
       "      <td>15008.00</td>\n",
       "      <td>29600</td>\n",
       "      <td>26700</td>\n",
       "      <td>0.96</td>\n",
       "      <td>0.60</td>\n",
       "      <td>...</td>\n",
       "      <td>0.66</td>\n",
       "      <td>0.58</td>\n",
       "      <td>0.76</td>\n",
       "      <td>0.37</td>\n",
       "      <td>0.81</td>\n",
       "      <td>466256</td>\n",
       "      <td>466256</td>\n",
       "      <td>gray</td>\n",
       "      <td>gray</td>\n",
       "      <td>5</td>\n",
       "    </tr>\n",
       "  </tbody>\n",
       "</table>\n",
       "<p>434985 rows × 21 columns</p>\n",
       "</div>"
      ],
      "text/plain": [
       "        index_original  year_original make_original       vin_original   \n",
       "0                    0           2015           Kia  5xyktca69fg566472  \\\n",
       "1                    1           2015           Kia  5xyktca69fg561319   \n",
       "2                    2           2014           BMW  wba3c1c51ek116351   \n",
       "3                    3           2015         Volvo  yv1612tb4f1310987   \n",
       "4                    4           2015        Nissan  1n4al3ap1fn326013   \n",
       "...                ...            ...           ...                ...   \n",
       "434980          466252           2011           BMW  wbafr1c53bc744672   \n",
       "434981          466253           2012           Ram  3c6td5et6cg112407   \n",
       "434982          466254           2012           BMW  5uxzw0c58cl668465   \n",
       "434983          466255           2015        Nissan  1n4al3ap0fc216050   \n",
       "434984          466256           2014          Ford  1ftfw1et2eke87277   \n",
       "\n",
       "        condition_original  odometer_original  mmr_original   \n",
       "0                     5.00           16639.00         20500  \\\n",
       "1                     5.00            9393.00         20800   \n",
       "2                     4.50            1331.00         31900   \n",
       "3                     4.10           14282.00         27500   \n",
       "4                     1.00            5554.00         15350   \n",
       "...                    ...                ...           ...   \n",
       "434980                3.90           66403.00         20300   \n",
       "434981                5.00           54393.00         30200   \n",
       "434982                4.80           50561.00         29800   \n",
       "434983                3.80           16658.00         15100   \n",
       "434984                3.40           15008.00         29600   \n",
       "\n",
       "        sellingprice_original  year  condition  ...  mmr  sellingprice   \n",
       "0                       21500  1.00       1.00  ... 0.46          0.47  \\\n",
       "1                       21500  1.00       1.00  ... 0.47          0.47   \n",
       "2                       30000  0.96       0.88  ... 0.71          0.66   \n",
       "3                       27750  1.00       0.77  ... 0.61          0.61   \n",
       "4                       10900  1.00       0.00  ... 0.34          0.24   \n",
       "...                       ...   ...        ...  ...  ...           ...   \n",
       "434980                  22800  0.84       0.72  ... 0.45          0.50   \n",
       "434981                  30800  0.88       1.00  ... 0.68          0.67   \n",
       "434982                  34000  0.88       0.95  ... 0.67          0.74   \n",
       "434983                  11100  1.00       0.70  ... 0.34          0.24   \n",
       "434984                  26700  0.96       0.60  ... 0.66          0.58   \n",
       "\n",
       "        sellingprice_log  odometer_log  mmr_log  index_x  index_y  color   \n",
       "0                   0.68          0.38     0.67        0        0  white  \\\n",
       "1                   0.68          0.31     0.68        1        1  white   \n",
       "2                   0.81          0.16     0.84        2        2   gray   \n",
       "3                   0.77          0.36     0.78        3        3  white   \n",
       "4                   0.48          0.26     0.58        4        4   gray   \n",
       "...                  ...           ...      ...      ...      ...    ...   \n",
       "434980              0.70          0.62     0.67   466252   466252  white   \n",
       "434981              0.82          0.58     0.82   466253   466253  white   \n",
       "434982              0.86          0.56     0.81   466254   466254  black   \n",
       "434983              0.48          0.38     0.57   466255   466255  white   \n",
       "434984              0.76          0.37     0.81   466256   466256   gray   \n",
       "\n",
       "       interior K-Means_cluster  \n",
       "0         black             426  \n",
       "1         beige             426  \n",
       "2         black             305  \n",
       "3         black             272  \n",
       "4         black             347  \n",
       "...         ...             ...  \n",
       "434980    other              35  \n",
       "434981    black             267  \n",
       "434982    black             267  \n",
       "434983    black              63  \n",
       "434984     gray               5  \n",
       "\n",
       "[434985 rows x 21 columns]"
      ]
     },
     "metadata": {},
     "output_type": "display_data"
    }
   ],
   "source": [
    "df_total['K-Means_cluster'] = model.fit_predict(cluster_data) ### 클러스터링 진행한 결과\n",
    "df_total"
   ]
  },
  {
   "cell_type": "code",
   "execution_count": null,
   "metadata": {},
   "outputs": [],
   "source": [
    "df_total.to_csv('./data/vehicles_prerocessing_final.csv')"
   ]
  },
  {
   "cell_type": "markdown",
   "metadata": {},
   "source": [
    "#### (5) Save Model"
   ]
  },
  {
   "cell_type": "code",
   "execution_count": null,
   "metadata": {},
   "outputs": [],
   "source": [
    "with open('./model/kmeans_500_model.pkl', 'wb') as f:\n",
    "    pickle.dump(model, f)"
   ]
  },
  {
   "cell_type": "code",
   "execution_count": null,
   "metadata": {},
   "outputs": [
    {
     "data": {
      "text/html": [
       "<div>\n",
       "<style scoped>\n",
       "    .dataframe tbody tr th:only-of-type {\n",
       "        vertical-align: middle;\n",
       "    }\n",
       "\n",
       "    .dataframe tbody tr th {\n",
       "        vertical-align: top;\n",
       "    }\n",
       "\n",
       "    .dataframe thead th {\n",
       "        text-align: right;\n",
       "    }\n",
       "</style>\n",
       "<table border=\"1\" class=\"dataframe\">\n",
       "  <thead>\n",
       "    <tr style=\"text-align: right;\">\n",
       "      <th></th>\n",
       "      <th>year_original</th>\n",
       "      <th>make_original</th>\n",
       "      <th>vin_original</th>\n",
       "      <th>condition_original</th>\n",
       "      <th>odometer_original</th>\n",
       "      <th>mmr_original</th>\n",
       "      <th>sellingprice_original</th>\n",
       "      <th>year</th>\n",
       "      <th>condition</th>\n",
       "      <th>odometer</th>\n",
       "      <th>mmr</th>\n",
       "      <th>sellingprice</th>\n",
       "      <th>sellingprice_log</th>\n",
       "      <th>odometer_log</th>\n",
       "      <th>mmr_log</th>\n",
       "      <th>index_x</th>\n",
       "      <th>index_y</th>\n",
       "      <th>K-Means_cluster</th>\n",
       "      <th>cluster_mean_price</th>\n",
       "    </tr>\n",
       "  </thead>\n",
       "  <tbody>\n",
       "    <tr>\n",
       "      <th>0</th>\n",
       "      <td>2015</td>\n",
       "      <td>Kia</td>\n",
       "      <td>5xyktca69fg566472</td>\n",
       "      <td>5.00</td>\n",
       "      <td>16639.00</td>\n",
       "      <td>20500</td>\n",
       "      <td>21500</td>\n",
       "      <td>1.00</td>\n",
       "      <td>1.00</td>\n",
       "      <td>0.06</td>\n",
       "      <td>0.46</td>\n",
       "      <td>0.47</td>\n",
       "      <td>0.68</td>\n",
       "      <td>0.38</td>\n",
       "      <td>0.67</td>\n",
       "      <td>0</td>\n",
       "      <td>0</td>\n",
       "      <td>426</td>\n",
       "      <td>20557.45</td>\n",
       "    </tr>\n",
       "    <tr>\n",
       "      <th>1</th>\n",
       "      <td>2015</td>\n",
       "      <td>Kia</td>\n",
       "      <td>5xyktca69fg561319</td>\n",
       "      <td>5.00</td>\n",
       "      <td>9393.00</td>\n",
       "      <td>20800</td>\n",
       "      <td>21500</td>\n",
       "      <td>1.00</td>\n",
       "      <td>1.00</td>\n",
       "      <td>0.04</td>\n",
       "      <td>0.47</td>\n",
       "      <td>0.47</td>\n",
       "      <td>0.68</td>\n",
       "      <td>0.31</td>\n",
       "      <td>0.68</td>\n",
       "      <td>1</td>\n",
       "      <td>1</td>\n",
       "      <td>426</td>\n",
       "      <td>20557.45</td>\n",
       "    </tr>\n",
       "    <tr>\n",
       "      <th>2</th>\n",
       "      <td>2014</td>\n",
       "      <td>BMW</td>\n",
       "      <td>wba3c1c51ek116351</td>\n",
       "      <td>4.50</td>\n",
       "      <td>1331.00</td>\n",
       "      <td>31900</td>\n",
       "      <td>30000</td>\n",
       "      <td>0.96</td>\n",
       "      <td>0.88</td>\n",
       "      <td>0.00</td>\n",
       "      <td>0.71</td>\n",
       "      <td>0.66</td>\n",
       "      <td>0.81</td>\n",
       "      <td>0.16</td>\n",
       "      <td>0.84</td>\n",
       "      <td>2</td>\n",
       "      <td>2</td>\n",
       "      <td>305</td>\n",
       "      <td>28997.63</td>\n",
       "    </tr>\n",
       "    <tr>\n",
       "      <th>3</th>\n",
       "      <td>2015</td>\n",
       "      <td>Volvo</td>\n",
       "      <td>yv1612tb4f1310987</td>\n",
       "      <td>4.10</td>\n",
       "      <td>14282.00</td>\n",
       "      <td>27500</td>\n",
       "      <td>27750</td>\n",
       "      <td>1.00</td>\n",
       "      <td>0.77</td>\n",
       "      <td>0.05</td>\n",
       "      <td>0.61</td>\n",
       "      <td>0.61</td>\n",
       "      <td>0.77</td>\n",
       "      <td>0.36</td>\n",
       "      <td>0.78</td>\n",
       "      <td>3</td>\n",
       "      <td>3</td>\n",
       "      <td>272</td>\n",
       "      <td>29101.60</td>\n",
       "    </tr>\n",
       "    <tr>\n",
       "      <th>4</th>\n",
       "      <td>2015</td>\n",
       "      <td>Nissan</td>\n",
       "      <td>1n4al3ap1fn326013</td>\n",
       "      <td>1.00</td>\n",
       "      <td>5554.00</td>\n",
       "      <td>15350</td>\n",
       "      <td>10900</td>\n",
       "      <td>1.00</td>\n",
       "      <td>0.00</td>\n",
       "      <td>0.02</td>\n",
       "      <td>0.34</td>\n",
       "      <td>0.24</td>\n",
       "      <td>0.48</td>\n",
       "      <td>0.26</td>\n",
       "      <td>0.58</td>\n",
       "      <td>4</td>\n",
       "      <td>4</td>\n",
       "      <td>347</td>\n",
       "      <td>7808.47</td>\n",
       "    </tr>\n",
       "    <tr>\n",
       "      <th>...</th>\n",
       "      <td>...</td>\n",
       "      <td>...</td>\n",
       "      <td>...</td>\n",
       "      <td>...</td>\n",
       "      <td>...</td>\n",
       "      <td>...</td>\n",
       "      <td>...</td>\n",
       "      <td>...</td>\n",
       "      <td>...</td>\n",
       "      <td>...</td>\n",
       "      <td>...</td>\n",
       "      <td>...</td>\n",
       "      <td>...</td>\n",
       "      <td>...</td>\n",
       "      <td>...</td>\n",
       "      <td>...</td>\n",
       "      <td>...</td>\n",
       "      <td>...</td>\n",
       "      <td>...</td>\n",
       "    </tr>\n",
       "    <tr>\n",
       "      <th>434980</th>\n",
       "      <td>2011</td>\n",
       "      <td>BMW</td>\n",
       "      <td>wbafr1c53bc744672</td>\n",
       "      <td>3.90</td>\n",
       "      <td>66403.00</td>\n",
       "      <td>20300</td>\n",
       "      <td>22800</td>\n",
       "      <td>0.84</td>\n",
       "      <td>0.72</td>\n",
       "      <td>0.25</td>\n",
       "      <td>0.45</td>\n",
       "      <td>0.50</td>\n",
       "      <td>0.70</td>\n",
       "      <td>0.62</td>\n",
       "      <td>0.67</td>\n",
       "      <td>466252</td>\n",
       "      <td>466252</td>\n",
       "      <td>35</td>\n",
       "      <td>21746.27</td>\n",
       "    </tr>\n",
       "    <tr>\n",
       "      <th>434981</th>\n",
       "      <td>2012</td>\n",
       "      <td>Ram</td>\n",
       "      <td>3c6td5et6cg112407</td>\n",
       "      <td>5.00</td>\n",
       "      <td>54393.00</td>\n",
       "      <td>30200</td>\n",
       "      <td>30800</td>\n",
       "      <td>0.88</td>\n",
       "      <td>1.00</td>\n",
       "      <td>0.20</td>\n",
       "      <td>0.68</td>\n",
       "      <td>0.67</td>\n",
       "      <td>0.82</td>\n",
       "      <td>0.58</td>\n",
       "      <td>0.82</td>\n",
       "      <td>466253</td>\n",
       "      <td>466253</td>\n",
       "      <td>267</td>\n",
       "      <td>33032.27</td>\n",
       "    </tr>\n",
       "    <tr>\n",
       "      <th>434982</th>\n",
       "      <td>2012</td>\n",
       "      <td>BMW</td>\n",
       "      <td>5uxzw0c58cl668465</td>\n",
       "      <td>4.80</td>\n",
       "      <td>50561.00</td>\n",
       "      <td>29800</td>\n",
       "      <td>34000</td>\n",
       "      <td>0.88</td>\n",
       "      <td>0.95</td>\n",
       "      <td>0.19</td>\n",
       "      <td>0.67</td>\n",
       "      <td>0.74</td>\n",
       "      <td>0.86</td>\n",
       "      <td>0.56</td>\n",
       "      <td>0.81</td>\n",
       "      <td>466254</td>\n",
       "      <td>466254</td>\n",
       "      <td>267</td>\n",
       "      <td>33032.27</td>\n",
       "    </tr>\n",
       "    <tr>\n",
       "      <th>434983</th>\n",
       "      <td>2015</td>\n",
       "      <td>Nissan</td>\n",
       "      <td>1n4al3ap0fc216050</td>\n",
       "      <td>3.80</td>\n",
       "      <td>16658.00</td>\n",
       "      <td>15100</td>\n",
       "      <td>11100</td>\n",
       "      <td>1.00</td>\n",
       "      <td>0.70</td>\n",
       "      <td>0.06</td>\n",
       "      <td>0.34</td>\n",
       "      <td>0.24</td>\n",
       "      <td>0.48</td>\n",
       "      <td>0.38</td>\n",
       "      <td>0.57</td>\n",
       "      <td>466255</td>\n",
       "      <td>466255</td>\n",
       "      <td>63</td>\n",
       "      <td>14331.31</td>\n",
       "    </tr>\n",
       "    <tr>\n",
       "      <th>434984</th>\n",
       "      <td>2014</td>\n",
       "      <td>Ford</td>\n",
       "      <td>1ftfw1et2eke87277</td>\n",
       "      <td>3.40</td>\n",
       "      <td>15008.00</td>\n",
       "      <td>29600</td>\n",
       "      <td>26700</td>\n",
       "      <td>0.96</td>\n",
       "      <td>0.60</td>\n",
       "      <td>0.06</td>\n",
       "      <td>0.66</td>\n",
       "      <td>0.58</td>\n",
       "      <td>0.76</td>\n",
       "      <td>0.37</td>\n",
       "      <td>0.81</td>\n",
       "      <td>466256</td>\n",
       "      <td>466256</td>\n",
       "      <td>5</td>\n",
       "      <td>28948.57</td>\n",
       "    </tr>\n",
       "  </tbody>\n",
       "</table>\n",
       "<p>434985 rows × 19 columns</p>\n",
       "</div>"
      ],
      "text/plain": [
       "        year_original make_original       vin_original  condition_original   \n",
       "0                2015           Kia  5xyktca69fg566472                5.00  \\\n",
       "1                2015           Kia  5xyktca69fg561319                5.00   \n",
       "2                2014           BMW  wba3c1c51ek116351                4.50   \n",
       "3                2015         Volvo  yv1612tb4f1310987                4.10   \n",
       "4                2015        Nissan  1n4al3ap1fn326013                1.00   \n",
       "...               ...           ...                ...                 ...   \n",
       "434980           2011           BMW  wbafr1c53bc744672                3.90   \n",
       "434981           2012           Ram  3c6td5et6cg112407                5.00   \n",
       "434982           2012           BMW  5uxzw0c58cl668465                4.80   \n",
       "434983           2015        Nissan  1n4al3ap0fc216050                3.80   \n",
       "434984           2014          Ford  1ftfw1et2eke87277                3.40   \n",
       "\n",
       "        odometer_original  mmr_original  sellingprice_original  year   \n",
       "0                16639.00         20500                  21500  1.00  \\\n",
       "1                 9393.00         20800                  21500  1.00   \n",
       "2                 1331.00         31900                  30000  0.96   \n",
       "3                14282.00         27500                  27750  1.00   \n",
       "4                 5554.00         15350                  10900  1.00   \n",
       "...                   ...           ...                    ...   ...   \n",
       "434980           66403.00         20300                  22800  0.84   \n",
       "434981           54393.00         30200                  30800  0.88   \n",
       "434982           50561.00         29800                  34000  0.88   \n",
       "434983           16658.00         15100                  11100  1.00   \n",
       "434984           15008.00         29600                  26700  0.96   \n",
       "\n",
       "        condition  odometer  mmr  sellingprice  sellingprice_log   \n",
       "0            1.00      0.06 0.46          0.47              0.68  \\\n",
       "1            1.00      0.04 0.47          0.47              0.68   \n",
       "2            0.88      0.00 0.71          0.66              0.81   \n",
       "3            0.77      0.05 0.61          0.61              0.77   \n",
       "4            0.00      0.02 0.34          0.24              0.48   \n",
       "...           ...       ...  ...           ...               ...   \n",
       "434980       0.72      0.25 0.45          0.50              0.70   \n",
       "434981       1.00      0.20 0.68          0.67              0.82   \n",
       "434982       0.95      0.19 0.67          0.74              0.86   \n",
       "434983       0.70      0.06 0.34          0.24              0.48   \n",
       "434984       0.60      0.06 0.66          0.58              0.76   \n",
       "\n",
       "        odometer_log  mmr_log  index_x  index_y  K-Means_cluster   \n",
       "0               0.38     0.67        0        0              426  \\\n",
       "1               0.31     0.68        1        1              426   \n",
       "2               0.16     0.84        2        2              305   \n",
       "3               0.36     0.78        3        3              272   \n",
       "4               0.26     0.58        4        4              347   \n",
       "...              ...      ...      ...      ...              ...   \n",
       "434980          0.62     0.67   466252   466252               35   \n",
       "434981          0.58     0.82   466253   466253              267   \n",
       "434982          0.56     0.81   466254   466254              267   \n",
       "434983          0.38     0.57   466255   466255               63   \n",
       "434984          0.37     0.81   466256   466256                5   \n",
       "\n",
       "        cluster_mean_price  \n",
       "0                 20557.45  \n",
       "1                 20557.45  \n",
       "2                 28997.63  \n",
       "3                 29101.60  \n",
       "4                  7808.47  \n",
       "...                    ...  \n",
       "434980            21746.27  \n",
       "434981            33032.27  \n",
       "434982            33032.27  \n",
       "434983            14331.31  \n",
       "434984            28948.57  \n",
       "\n",
       "[434985 rows x 19 columns]"
      ]
     },
     "metadata": {},
     "output_type": "display_data"
    }
   ],
   "source": [
    "#df_total.drop(['index_original', 'color','interior'], axis=1, inplace=True) # 무의미한 컬럼 제거\n",
    "df_total[\"cluster_mean_price\"] = df_total.groupby(\"K-Means_cluster\").sellingprice_original.transform(\"mean\") # 클러스터 별 평균\n",
    "df_total"
   ]
  },
  {
   "cell_type": "markdown",
   "metadata": {},
   "source": [
    "## Create Result Set"
   ]
  },
  {
   "cell_type": "code",
   "execution_count": null,
   "metadata": {},
   "outputs": [
    {
     "data": {
      "text/html": [
       "<div>\n",
       "<style scoped>\n",
       "    .dataframe tbody tr th:only-of-type {\n",
       "        vertical-align: middle;\n",
       "    }\n",
       "\n",
       "    .dataframe tbody tr th {\n",
       "        vertical-align: top;\n",
       "    }\n",
       "\n",
       "    .dataframe thead th {\n",
       "        text-align: right;\n",
       "    }\n",
       "</style>\n",
       "<table border=\"1\" class=\"dataframe\">\n",
       "  <thead>\n",
       "    <tr style=\"text-align: right;\">\n",
       "      <th></th>\n",
       "      <th>index_original</th>\n",
       "      <th>year_original</th>\n",
       "      <th>make_original</th>\n",
       "      <th>condition_original</th>\n",
       "      <th>odometer_original</th>\n",
       "      <th>mmr_original</th>\n",
       "      <th>sellingprice_original</th>\n",
       "      <th>K-Means_cluster</th>\n",
       "    </tr>\n",
       "  </thead>\n",
       "  <tbody>\n",
       "    <tr>\n",
       "      <th>0</th>\n",
       "      <td>0</td>\n",
       "      <td>2015</td>\n",
       "      <td>Kia</td>\n",
       "      <td>5.00</td>\n",
       "      <td>16639.00</td>\n",
       "      <td>20500</td>\n",
       "      <td>21500</td>\n",
       "      <td>426</td>\n",
       "    </tr>\n",
       "    <tr>\n",
       "      <th>1</th>\n",
       "      <td>1</td>\n",
       "      <td>2015</td>\n",
       "      <td>Kia</td>\n",
       "      <td>5.00</td>\n",
       "      <td>9393.00</td>\n",
       "      <td>20800</td>\n",
       "      <td>21500</td>\n",
       "      <td>426</td>\n",
       "    </tr>\n",
       "    <tr>\n",
       "      <th>2</th>\n",
       "      <td>2</td>\n",
       "      <td>2014</td>\n",
       "      <td>BMW</td>\n",
       "      <td>4.50</td>\n",
       "      <td>1331.00</td>\n",
       "      <td>31900</td>\n",
       "      <td>30000</td>\n",
       "      <td>305</td>\n",
       "    </tr>\n",
       "    <tr>\n",
       "      <th>3</th>\n",
       "      <td>3</td>\n",
       "      <td>2015</td>\n",
       "      <td>Volvo</td>\n",
       "      <td>4.10</td>\n",
       "      <td>14282.00</td>\n",
       "      <td>27500</td>\n",
       "      <td>27750</td>\n",
       "      <td>272</td>\n",
       "    </tr>\n",
       "    <tr>\n",
       "      <th>4</th>\n",
       "      <td>4</td>\n",
       "      <td>2015</td>\n",
       "      <td>Nissan</td>\n",
       "      <td>1.00</td>\n",
       "      <td>5554.00</td>\n",
       "      <td>15350</td>\n",
       "      <td>10900</td>\n",
       "      <td>347</td>\n",
       "    </tr>\n",
       "    <tr>\n",
       "      <th>...</th>\n",
       "      <td>...</td>\n",
       "      <td>...</td>\n",
       "      <td>...</td>\n",
       "      <td>...</td>\n",
       "      <td>...</td>\n",
       "      <td>...</td>\n",
       "      <td>...</td>\n",
       "      <td>...</td>\n",
       "    </tr>\n",
       "    <tr>\n",
       "      <th>434980</th>\n",
       "      <td>434980</td>\n",
       "      <td>2011</td>\n",
       "      <td>BMW</td>\n",
       "      <td>3.90</td>\n",
       "      <td>66403.00</td>\n",
       "      <td>20300</td>\n",
       "      <td>22800</td>\n",
       "      <td>35</td>\n",
       "    </tr>\n",
       "    <tr>\n",
       "      <th>434981</th>\n",
       "      <td>434981</td>\n",
       "      <td>2012</td>\n",
       "      <td>Ram</td>\n",
       "      <td>5.00</td>\n",
       "      <td>54393.00</td>\n",
       "      <td>30200</td>\n",
       "      <td>30800</td>\n",
       "      <td>267</td>\n",
       "    </tr>\n",
       "    <tr>\n",
       "      <th>434982</th>\n",
       "      <td>434982</td>\n",
       "      <td>2012</td>\n",
       "      <td>BMW</td>\n",
       "      <td>4.80</td>\n",
       "      <td>50561.00</td>\n",
       "      <td>29800</td>\n",
       "      <td>34000</td>\n",
       "      <td>267</td>\n",
       "    </tr>\n",
       "    <tr>\n",
       "      <th>434983</th>\n",
       "      <td>434983</td>\n",
       "      <td>2015</td>\n",
       "      <td>Nissan</td>\n",
       "      <td>3.80</td>\n",
       "      <td>16658.00</td>\n",
       "      <td>15100</td>\n",
       "      <td>11100</td>\n",
       "      <td>63</td>\n",
       "    </tr>\n",
       "    <tr>\n",
       "      <th>434984</th>\n",
       "      <td>434984</td>\n",
       "      <td>2014</td>\n",
       "      <td>Ford</td>\n",
       "      <td>3.40</td>\n",
       "      <td>15008.00</td>\n",
       "      <td>29600</td>\n",
       "      <td>26700</td>\n",
       "      <td>5</td>\n",
       "    </tr>\n",
       "  </tbody>\n",
       "</table>\n",
       "<p>434985 rows × 8 columns</p>\n",
       "</div>"
      ],
      "text/plain": [
       "        index_original  year_original make_original  condition_original   \n",
       "0                    0           2015           Kia                5.00  \\\n",
       "1                    1           2015           Kia                5.00   \n",
       "2                    2           2014           BMW                4.50   \n",
       "3                    3           2015         Volvo                4.10   \n",
       "4                    4           2015        Nissan                1.00   \n",
       "...                ...            ...           ...                 ...   \n",
       "434980          434980           2011           BMW                3.90   \n",
       "434981          434981           2012           Ram                5.00   \n",
       "434982          434982           2012           BMW                4.80   \n",
       "434983          434983           2015        Nissan                3.80   \n",
       "434984          434984           2014          Ford                3.40   \n",
       "\n",
       "        odometer_original  mmr_original  sellingprice_original   \n",
       "0                16639.00         20500                  21500  \\\n",
       "1                 9393.00         20800                  21500   \n",
       "2                 1331.00         31900                  30000   \n",
       "3                14282.00         27500                  27750   \n",
       "4                 5554.00         15350                  10900   \n",
       "...                   ...           ...                    ...   \n",
       "434980           66403.00         20300                  22800   \n",
       "434981           54393.00         30200                  30800   \n",
       "434982           50561.00         29800                  34000   \n",
       "434983           16658.00         15100                  11100   \n",
       "434984           15008.00         29600                  26700   \n",
       "\n",
       "        K-Means_cluster  \n",
       "0                   426  \n",
       "1                   426  \n",
       "2                   305  \n",
       "3                   272  \n",
       "4                   347  \n",
       "...                 ...  \n",
       "434980               35  \n",
       "434981              267  \n",
       "434982              267  \n",
       "434983               63  \n",
       "434984                5  \n",
       "\n",
       "[434985 rows x 8 columns]"
      ]
     },
     "metadata": {},
     "output_type": "display_data"
    }
   ],
   "source": [
    "df_total['index_original'] = df_total.index\n",
    "df_final = df_total[['index_original', 'year_original', 'make_original',\n",
    "       'condition_original', 'odometer_original', 'mmr_original',\n",
    "       'sellingprice_original', 'K-Means_cluster']].copy()\n",
    "df_final"
   ]
  },
  {
   "cell_type": "code",
   "execution_count": null,
   "metadata": {},
   "outputs": [
    {
     "data": {
      "text/html": [
       "<div>\n",
       "<style scoped>\n",
       "    .dataframe tbody tr th:only-of-type {\n",
       "        vertical-align: middle;\n",
       "    }\n",
       "\n",
       "    .dataframe tbody tr th {\n",
       "        vertical-align: top;\n",
       "    }\n",
       "\n",
       "    .dataframe thead th {\n",
       "        text-align: right;\n",
       "    }\n",
       "</style>\n",
       "<table border=\"1\" class=\"dataframe\">\n",
       "  <thead>\n",
       "    <tr style=\"text-align: right;\">\n",
       "      <th></th>\n",
       "      <th>count_year</th>\n",
       "      <th>count_make</th>\n",
       "      <th>mean_condition</th>\n",
       "      <th>median_condition</th>\n",
       "      <th>max_condition</th>\n",
       "      <th>min_condition</th>\n",
       "      <th>mean_odometer</th>\n",
       "      <th>median_odometer</th>\n",
       "      <th>max_odometer</th>\n",
       "      <th>min_odometer</th>\n",
       "      <th>mean_mmr</th>\n",
       "      <th>median_mmr</th>\n",
       "      <th>max_mmr</th>\n",
       "      <th>min_mmr</th>\n",
       "      <th>mean_sellingprice</th>\n",
       "      <th>median_sellingprice</th>\n",
       "      <th>max_sellingprice</th>\n",
       "      <th>min_sellingprice</th>\n",
       "    </tr>\n",
       "    <tr>\n",
       "      <th>K-Means_cluster</th>\n",
       "      <th></th>\n",
       "      <th></th>\n",
       "      <th></th>\n",
       "      <th></th>\n",
       "      <th></th>\n",
       "      <th></th>\n",
       "      <th></th>\n",
       "      <th></th>\n",
       "      <th></th>\n",
       "      <th></th>\n",
       "      <th></th>\n",
       "      <th></th>\n",
       "      <th></th>\n",
       "      <th></th>\n",
       "      <th></th>\n",
       "      <th></th>\n",
       "      <th></th>\n",
       "      <th></th>\n",
       "    </tr>\n",
       "  </thead>\n",
       "  <tbody>\n",
       "    <tr>\n",
       "      <th>0</th>\n",
       "      <td>2014</td>\n",
       "      <td>Ford</td>\n",
       "      <td>4.34</td>\n",
       "      <td>4.30</td>\n",
       "      <td>4.50</td>\n",
       "      <td>4.20</td>\n",
       "      <td>32626.40</td>\n",
       "      <td>32488.00</td>\n",
       "      <td>52430.00</td>\n",
       "      <td>19817.00</td>\n",
       "      <td>18354.09</td>\n",
       "      <td>18350.00</td>\n",
       "      <td>21500</td>\n",
       "      <td>14400</td>\n",
       "      <td>18608.82</td>\n",
       "      <td>18500.00</td>\n",
       "      <td>22600</td>\n",
       "      <td>14000</td>\n",
       "    </tr>\n",
       "    <tr>\n",
       "      <th>1</th>\n",
       "      <td>2006</td>\n",
       "      <td>Chevrolet</td>\n",
       "      <td>1.02</td>\n",
       "      <td>1.00</td>\n",
       "      <td>1.40</td>\n",
       "      <td>1.00</td>\n",
       "      <td>93371.93</td>\n",
       "      <td>95279.50</td>\n",
       "      <td>121681.00</td>\n",
       "      <td>54725.00</td>\n",
       "      <td>5070.03</td>\n",
       "      <td>5050.00</td>\n",
       "      <td>10850</td>\n",
       "      <td>1200</td>\n",
       "      <td>2597.80</td>\n",
       "      <td>2400.00</td>\n",
       "      <td>7000</td>\n",
       "      <td>275</td>\n",
       "    </tr>\n",
       "    <tr>\n",
       "      <th>2</th>\n",
       "      <td>2010</td>\n",
       "      <td>Chevrolet</td>\n",
       "      <td>3.62</td>\n",
       "      <td>3.60</td>\n",
       "      <td>4.00</td>\n",
       "      <td>3.40</td>\n",
       "      <td>96668.79</td>\n",
       "      <td>96588.00</td>\n",
       "      <td>116064.00</td>\n",
       "      <td>79289.00</td>\n",
       "      <td>5657.02</td>\n",
       "      <td>5675.00</td>\n",
       "      <td>8425</td>\n",
       "      <td>2725</td>\n",
       "      <td>5847.27</td>\n",
       "      <td>6000.00</td>\n",
       "      <td>9000</td>\n",
       "      <td>1500</td>\n",
       "    </tr>\n",
       "    <tr>\n",
       "      <th>3</th>\n",
       "      <td>2006</td>\n",
       "      <td>Chevrolet</td>\n",
       "      <td>1.97</td>\n",
       "      <td>1.90</td>\n",
       "      <td>2.40</td>\n",
       "      <td>1.50</td>\n",
       "      <td>197723.43</td>\n",
       "      <td>196796.00</td>\n",
       "      <td>222992.00</td>\n",
       "      <td>180546.00</td>\n",
       "      <td>2314.36</td>\n",
       "      <td>2100.00</td>\n",
       "      <td>7175</td>\n",
       "      <td>75</td>\n",
       "      <td>2100.36</td>\n",
       "      <td>1950.00</td>\n",
       "      <td>5800</td>\n",
       "      <td>300</td>\n",
       "    </tr>\n",
       "    <tr>\n",
       "      <th>4</th>\n",
       "      <td>2011</td>\n",
       "      <td>Nissan</td>\n",
       "      <td>2.78</td>\n",
       "      <td>2.80</td>\n",
       "      <td>3.10</td>\n",
       "      <td>2.40</td>\n",
       "      <td>53530.59</td>\n",
       "      <td>53451.00</td>\n",
       "      <td>70976.00</td>\n",
       "      <td>26759.00</td>\n",
       "      <td>12303.73</td>\n",
       "      <td>12250.00</td>\n",
       "      <td>19000</td>\n",
       "      <td>9225</td>\n",
       "      <td>11873.14</td>\n",
       "      <td>11800.00</td>\n",
       "      <td>15400</td>\n",
       "      <td>7200</td>\n",
       "    </tr>\n",
       "    <tr>\n",
       "      <th>...</th>\n",
       "      <td>...</td>\n",
       "      <td>...</td>\n",
       "      <td>...</td>\n",
       "      <td>...</td>\n",
       "      <td>...</td>\n",
       "      <td>...</td>\n",
       "      <td>...</td>\n",
       "      <td>...</td>\n",
       "      <td>...</td>\n",
       "      <td>...</td>\n",
       "      <td>...</td>\n",
       "      <td>...</td>\n",
       "      <td>...</td>\n",
       "      <td>...</td>\n",
       "      <td>...</td>\n",
       "      <td>...</td>\n",
       "      <td>...</td>\n",
       "      <td>...</td>\n",
       "    </tr>\n",
       "    <tr>\n",
       "      <th>495</th>\n",
       "      <td>2011</td>\n",
       "      <td>Ford</td>\n",
       "      <td>3.62</td>\n",
       "      <td>3.60</td>\n",
       "      <td>4.00</td>\n",
       "      <td>3.20</td>\n",
       "      <td>70477.22</td>\n",
       "      <td>69606.00</td>\n",
       "      <td>106192.00</td>\n",
       "      <td>44077.00</td>\n",
       "      <td>28509.24</td>\n",
       "      <td>28400.00</td>\n",
       "      <td>34900</td>\n",
       "      <td>20500</td>\n",
       "      <td>28560.22</td>\n",
       "      <td>28500.00</td>\n",
       "      <td>35600</td>\n",
       "      <td>23900</td>\n",
       "    </tr>\n",
       "    <tr>\n",
       "      <th>496</th>\n",
       "      <td>2011</td>\n",
       "      <td>Mercedes-Benz</td>\n",
       "      <td>2.14</td>\n",
       "      <td>2.10</td>\n",
       "      <td>2.60</td>\n",
       "      <td>1.60</td>\n",
       "      <td>61014.95</td>\n",
       "      <td>58233.00</td>\n",
       "      <td>116793.00</td>\n",
       "      <td>22273.00</td>\n",
       "      <td>31304.31</td>\n",
       "      <td>31400.00</td>\n",
       "      <td>37500</td>\n",
       "      <td>22000</td>\n",
       "      <td>29311.25</td>\n",
       "      <td>29000.00</td>\n",
       "      <td>40600</td>\n",
       "      <td>22700</td>\n",
       "    </tr>\n",
       "    <tr>\n",
       "      <th>497</th>\n",
       "      <td>2012</td>\n",
       "      <td>Ford</td>\n",
       "      <td>4.85</td>\n",
       "      <td>4.80</td>\n",
       "      <td>5.00</td>\n",
       "      <td>4.60</td>\n",
       "      <td>23569.17</td>\n",
       "      <td>23694.00</td>\n",
       "      <td>42109.00</td>\n",
       "      <td>2494.00</td>\n",
       "      <td>16219.91</td>\n",
       "      <td>16150.00</td>\n",
       "      <td>22400</td>\n",
       "      <td>10450</td>\n",
       "      <td>16766.69</td>\n",
       "      <td>16800.00</td>\n",
       "      <td>21500</td>\n",
       "      <td>10800</td>\n",
       "    </tr>\n",
       "    <tr>\n",
       "      <th>498</th>\n",
       "      <td>2008</td>\n",
       "      <td>Chevrolet</td>\n",
       "      <td>3.54</td>\n",
       "      <td>3.50</td>\n",
       "      <td>3.90</td>\n",
       "      <td>3.20</td>\n",
       "      <td>63645.33</td>\n",
       "      <td>64436.00</td>\n",
       "      <td>83924.00</td>\n",
       "      <td>26630.00</td>\n",
       "      <td>18102.21</td>\n",
       "      <td>18050.00</td>\n",
       "      <td>24600</td>\n",
       "      <td>14250</td>\n",
       "      <td>18475.26</td>\n",
       "      <td>18400.00</td>\n",
       "      <td>25750</td>\n",
       "      <td>14300</td>\n",
       "    </tr>\n",
       "    <tr>\n",
       "      <th>499</th>\n",
       "      <td>2012</td>\n",
       "      <td>Infiniti</td>\n",
       "      <td>3.84</td>\n",
       "      <td>3.80</td>\n",
       "      <td>4.00</td>\n",
       "      <td>3.60</td>\n",
       "      <td>30656.00</td>\n",
       "      <td>31353.00</td>\n",
       "      <td>47184.00</td>\n",
       "      <td>5216.00</td>\n",
       "      <td>19988.48</td>\n",
       "      <td>19950.00</td>\n",
       "      <td>24500</td>\n",
       "      <td>14650</td>\n",
       "      <td>20049.12</td>\n",
       "      <td>20000.00</td>\n",
       "      <td>24750</td>\n",
       "      <td>16100</td>\n",
       "    </tr>\n",
       "  </tbody>\n",
       "</table>\n",
       "<p>500 rows × 18 columns</p>\n",
       "</div>"
      ],
      "text/plain": [
       "                 count_year     count_make  mean_condition  median_condition   \n",
       "K-Means_cluster                                                                \n",
       "0                      2014           Ford            4.34              4.30  \\\n",
       "1                      2006      Chevrolet            1.02              1.00   \n",
       "2                      2010      Chevrolet            3.62              3.60   \n",
       "3                      2006      Chevrolet            1.97              1.90   \n",
       "4                      2011         Nissan            2.78              2.80   \n",
       "...                     ...            ...             ...               ...   \n",
       "495                    2011           Ford            3.62              3.60   \n",
       "496                    2011  Mercedes-Benz            2.14              2.10   \n",
       "497                    2012           Ford            4.85              4.80   \n",
       "498                    2008      Chevrolet            3.54              3.50   \n",
       "499                    2012       Infiniti            3.84              3.80   \n",
       "\n",
       "                 max_condition  min_condition  mean_odometer  median_odometer   \n",
       "K-Means_cluster                                                                 \n",
       "0                         4.50           4.20       32626.40         32488.00  \\\n",
       "1                         1.40           1.00       93371.93         95279.50   \n",
       "2                         4.00           3.40       96668.79         96588.00   \n",
       "3                         2.40           1.50      197723.43        196796.00   \n",
       "4                         3.10           2.40       53530.59         53451.00   \n",
       "...                        ...            ...            ...              ...   \n",
       "495                       4.00           3.20       70477.22         69606.00   \n",
       "496                       2.60           1.60       61014.95         58233.00   \n",
       "497                       5.00           4.60       23569.17         23694.00   \n",
       "498                       3.90           3.20       63645.33         64436.00   \n",
       "499                       4.00           3.60       30656.00         31353.00   \n",
       "\n",
       "                 max_odometer  min_odometer  mean_mmr  median_mmr  max_mmr   \n",
       "K-Means_cluster                                                              \n",
       "0                    52430.00      19817.00  18354.09    18350.00    21500  \\\n",
       "1                   121681.00      54725.00   5070.03     5050.00    10850   \n",
       "2                   116064.00      79289.00   5657.02     5675.00     8425   \n",
       "3                   222992.00     180546.00   2314.36     2100.00     7175   \n",
       "4                    70976.00      26759.00  12303.73    12250.00    19000   \n",
       "...                       ...           ...       ...         ...      ...   \n",
       "495                 106192.00      44077.00  28509.24    28400.00    34900   \n",
       "496                 116793.00      22273.00  31304.31    31400.00    37500   \n",
       "497                  42109.00       2494.00  16219.91    16150.00    22400   \n",
       "498                  83924.00      26630.00  18102.21    18050.00    24600   \n",
       "499                  47184.00       5216.00  19988.48    19950.00    24500   \n",
       "\n",
       "                 min_mmr  mean_sellingprice  median_sellingprice   \n",
       "K-Means_cluster                                                    \n",
       "0                  14400           18608.82             18500.00  \\\n",
       "1                   1200            2597.80              2400.00   \n",
       "2                   2725            5847.27              6000.00   \n",
       "3                     75            2100.36              1950.00   \n",
       "4                   9225           11873.14             11800.00   \n",
       "...                  ...                ...                  ...   \n",
       "495                20500           28560.22             28500.00   \n",
       "496                22000           29311.25             29000.00   \n",
       "497                10450           16766.69             16800.00   \n",
       "498                14250           18475.26             18400.00   \n",
       "499                14650           20049.12             20000.00   \n",
       "\n",
       "                 max_sellingprice  min_sellingprice  \n",
       "K-Means_cluster                                      \n",
       "0                           22600             14000  \n",
       "1                            7000               275  \n",
       "2                            9000              1500  \n",
       "3                            5800               300  \n",
       "4                           15400              7200  \n",
       "...                           ...               ...  \n",
       "495                         35600             23900  \n",
       "496                         40600             22700  \n",
       "497                         21500             10800  \n",
       "498                         25750             14300  \n",
       "499                         24750             16100  \n",
       "\n",
       "[500 rows x 18 columns]"
      ]
     },
     "metadata": {},
     "output_type": "display_data"
    }
   ],
   "source": [
    "result = df_final.groupby('K-Means_cluster').agg({\n",
    "    'year_original': [lambda x: x.value_counts().index[0]],\n",
    "    'make_original': [lambda x: x.value_counts().index[0]],\n",
    "    'condition_original': ['mean', 'median', 'max', 'min'],\n",
    "    'odometer_original': ['mean', 'median', 'max', 'min'],\n",
    "    'mmr_original': ['mean', 'median', 'max', 'min'],\n",
    "    'sellingprice_original': ['mean', 'median', 'max', 'min']\n",
    "})\n",
    "\n",
    "# 컬럼명 재설정\n",
    "result.columns = [\n",
    "    'count_year',\n",
    "    'count_make',\n",
    "    'mean_condition',\n",
    "    'median_condition',\n",
    "    'max_condition',\n",
    "    'min_condition',\n",
    "    'mean_odometer',\n",
    "    'median_odometer',\n",
    "    'max_odometer',\n",
    "    'min_odometer',\n",
    "    'mean_mmr',\n",
    "    'median_mmr',\n",
    "    'max_mmr',\n",
    "    'min_mmr',\n",
    "    'mean_sellingprice',\n",
    "    'median_sellingprice',\n",
    "    'max_sellingprice',\n",
    "    'min_sellingprice'\n",
    "]\n",
    "\n",
    "# 결과 출력\n",
    "result\n"
   ]
  },
  {
   "cell_type": "code",
   "execution_count": null,
   "metadata": {},
   "outputs": [
    {
     "data": {
      "image/png": "[encoded data removed]",
      "text/plain": [
       "<Figure size 2000x500 with 2 Axes>"
      ]
     },
     "metadata": {},
     "output_type": "display_data"
    }
   ],
   "source": [
    "plt.figure(figsize = (20, 5))\n",
    "sns.heatmap(result.corr(),annot=True)\n",
    "plt.show()"
   ]
  },
  {
   "cell_type": "code",
   "execution_count": null,
   "metadata": {},
   "outputs": [],
   "source": []
  },
  {
   "cell_type": "code",
   "execution_count": null,
   "metadata": {},
   "outputs": [],
   "source": [
    "result.to_excel('./data/model_result_bygroup_final.xlsx')"
   ]
  }
 ],
 "metadata": {
  "kernelspec": {
   "display_name": "base",
   "language": "python",
   "name": "python3"
  },
  "language_info": {
   "codemirror_mode": {
    "name": "ipython",
    "version": 3
   },
   "file_extension": ".py",
   "mimetype": "text/x-python",
   "name": "python",
   "nbconvert_exporter": "python",
   "pygments_lexer": "ipython3",
   "version": "3.9.13"
  }
 },
 "nbformat": 4,
 "nbformat_minor": 2
}
