{
  "cells": [
    {
      "cell_type": "markdown",
      "metadata": {
        "id": "8zAD9ydu0qNI"
      },
      "source": [
        "# __중고차 적정 가격 판단 모델__\n",
        "* 2023 BigData Team Project\n",
        "* 안지은(사회과학대학 문헌정보학과 2020), 이정윤(사회과학대학 문헌정보학과 20202651)\n",
        "\n",
        "\n",
        "\n",
        "## 목차\n",
        "0.\n",
        "1."
      ]
    },
    {
      "cell_type": "markdown",
      "metadata": {
        "id": "e-ADG1dR1VxQ"
      },
      "source": [
        "## 0) Introduction"
      ]
    },
    {
      "cell_type": "markdown",
      "metadata": {
        "id": "rx3AlBsQ0ucr"
      },
      "source": [
        "## 1) Module Import"
      ]
    },
    {
      "cell_type": "code",
      "execution_count": 2,
      "metadata": {
        "colab": {
          "base_uri": "https://localhost:8080/"
        },
        "id": "bevfwEqz133J",
        "outputId": "c2f98093-07d8-48cb-eeea-d43edfd79f30"
      },
      "outputs": [
        {
          "name": "stdout",
          "output_type": "stream",
          "text": [
            "Collecting sklearn\n",
            "  Using cached sklearn-0.0.post11.tar.gz (3.6 kB)\n",
            "  Preparing metadata (setup.py) ... \u001b[?25ldone\n",
            "\u001b[?25hBuilding wheels for collected packages: sklearn\n",
            "  Building wheel for sklearn (setup.py) ... \u001b[?25ldone\n",
            "\u001b[?25h  Created wheel for sklearn: filename=sklearn-0.0.post11-py3-none-any.whl size=2960 sha256=47b7cef092418b83349d50abf091177df3cf76c71053684e68e8f20bcdd03465\n",
            "  Stored in directory: /Users/jeongyunl/Library/Caches/pip/wheels/9e/9e/4c/184e84f4ce918378a9ec9adafd1b6b73bea45f0a4a7855b6ce\n",
            "Successfully built sklearn\n",
            "Installing collected packages: sklearn\n",
            "Successfully installed sklearn-0.0.post11\n"
          ]
        }
      ],
      "source": [
        "pip install sklearn"
      ]
    },
    {
      "cell_type": "code",
      "execution_count": 3,
      "metadata": {
        "colab": {
          "base_uri": "https://localhost:8080/"
        },
        "id": "AHp_pk8wsrAd",
        "outputId": "42045ef2-1045-4f4b-fa03-9290cd3349e3"
      },
      "outputs": [
        {
          "name": "stdout",
          "output_type": "stream",
          "text": [
            "Requirement already satisfied: metrics in /Users/jeongyunl/opt/anaconda3/lib/python3.9/site-packages (0.3.3)\n",
            "Requirement already satisfied: Pygments==2.2.0 in /Users/jeongyunl/opt/anaconda3/lib/python3.9/site-packages (from metrics) (2.2.0)\n",
            "Requirement already satisfied: pathspec==0.5.5 in /Users/jeongyunl/opt/anaconda3/lib/python3.9/site-packages (from metrics) (0.5.5)\n",
            "Requirement already satisfied: pathlib2>=2.3.0 in /Users/jeongyunl/opt/anaconda3/lib/python3.9/site-packages (from metrics) (2.3.7.post1)\n",
            "Requirement already satisfied: six in /Users/jeongyunl/opt/anaconda3/lib/python3.9/site-packages (from pathlib2>=2.3.0->metrics) (1.16.0)\n"
          ]
        }
      ],
      "source": [
        "pip install metrics"
      ]
    },
    {
      "cell_type": "code",
      "execution_count": 6,
      "metadata": {},
      "outputs": [
        {
          "name": "stdout",
          "output_type": "stream",
          "text": [
            "Collecting yellowbrick\n",
            "  Downloading yellowbrick-1.5-py3-none-any.whl (282 kB)\n",
            "\u001b[2K     \u001b[90m━━━━━━━━━━━━━━━━━━━━━━━━━━━━━━━━━━━━━━━\u001b[0m \u001b[32m282.6/282.6 kB\u001b[0m \u001b[31m2.9 MB/s\u001b[0m eta \u001b[36m0:00:00\u001b[0ma \u001b[36m0:00:01\u001b[0m\n",
            "\u001b[?25hRequirement already satisfied: matplotlib!=3.0.0,>=2.0.2 in /Users/jeongyunl/opt/anaconda3/lib/python3.9/site-packages (from yellowbrick) (3.5.2)\n",
            "Requirement already satisfied: scipy>=1.0.0 in /Users/jeongyunl/opt/anaconda3/lib/python3.9/site-packages (from yellowbrick) (1.9.1)\n",
            "Requirement already satisfied: scikit-learn>=1.0.0 in /Users/jeongyunl/opt/anaconda3/lib/python3.9/site-packages (from yellowbrick) (1.0.2)\n",
            "Requirement already satisfied: numpy>=1.16.0 in /Users/jeongyunl/opt/anaconda3/lib/python3.9/site-packages (from yellowbrick) (1.21.5)\n",
            "Requirement already satisfied: cycler>=0.10.0 in /Users/jeongyunl/opt/anaconda3/lib/python3.9/site-packages (from yellowbrick) (0.11.0)\n",
            "Requirement already satisfied: fonttools>=4.22.0 in /Users/jeongyunl/opt/anaconda3/lib/python3.9/site-packages (from matplotlib!=3.0.0,>=2.0.2->yellowbrick) (4.25.0)\n",
            "Requirement already satisfied: kiwisolver>=1.0.1 in /Users/jeongyunl/opt/anaconda3/lib/python3.9/site-packages (from matplotlib!=3.0.0,>=2.0.2->yellowbrick) (1.4.2)\n",
            "Requirement already satisfied: packaging>=20.0 in /Users/jeongyunl/opt/anaconda3/lib/python3.9/site-packages (from matplotlib!=3.0.0,>=2.0.2->yellowbrick) (21.3)\n",
            "Requirement already satisfied: pillow>=6.2.0 in /Users/jeongyunl/opt/anaconda3/lib/python3.9/site-packages (from matplotlib!=3.0.0,>=2.0.2->yellowbrick) (9.2.0)\n",
            "Requirement already satisfied: pyparsing>=2.2.1 in /Users/jeongyunl/opt/anaconda3/lib/python3.9/site-packages (from matplotlib!=3.0.0,>=2.0.2->yellowbrick) (3.0.9)\n",
            "Requirement already satisfied: python-dateutil>=2.7 in /Users/jeongyunl/opt/anaconda3/lib/python3.9/site-packages (from matplotlib!=3.0.0,>=2.0.2->yellowbrick) (2.8.2)\n",
            "Requirement already satisfied: joblib>=0.11 in /Users/jeongyunl/opt/anaconda3/lib/python3.9/site-packages (from scikit-learn>=1.0.0->yellowbrick) (1.1.0)\n",
            "Requirement already satisfied: threadpoolctl>=2.0.0 in /Users/jeongyunl/opt/anaconda3/lib/python3.9/site-packages (from scikit-learn>=1.0.0->yellowbrick) (2.2.0)\n",
            "Requirement already satisfied: six>=1.5 in /Users/jeongyunl/opt/anaconda3/lib/python3.9/site-packages (from python-dateutil>=2.7->matplotlib!=3.0.0,>=2.0.2->yellowbrick) (1.16.0)\n",
            "Installing collected packages: yellowbrick\n",
            "Successfully installed yellowbrick-1.5\n",
            "Note: you may need to restart the kernel to use updated packages.\n"
          ]
        }
      ],
      "source": [
        "pip install yellowbrick"
      ]
    },
    {
      "cell_type": "code",
      "execution_count": 7,
      "metadata": {
        "id": "Qi2_XMJe0pk6"
      },
      "outputs": [],
      "source": [
        "import pandas as pd\n",
        "import csv\n",
        "import numpy as np\n",
        "from tqdm import tqdm\n",
        "\n",
        "import matplotlib.pyplot as plt ## for visualization\n",
        "from sklearn.decomposition import PCA ## for visualization\n",
        "\n",
        "from sklearn.preprocessing import MinMaxScaler ## MinMax Normalization\n",
        "from sklearn.cluster import KMeans ## Kmeans\n",
        "from sklearn.cluster import DBSCAN ## DBSCAN\n",
        "from sklearn.neighbors import NearestNeighbors ## for DBSCAN\n",
        "\n",
        "import sklearn.metrics as metrics\n",
        "from sklearn.metrics import silhouette_samples, silhouette_score ## silhouette method\n",
        "from yellowbrick.cluster.elbow import kelbow_visualizer ## elbow method\n",
        "from sklearn.decomposition import PCA ## for visualization"
      ]
    },
    {
      "cell_type": "markdown",
      "metadata": {
        "id": "-0NeVeaG0wQz"
      },
      "source": [
        "## 2) Data Preprocessing"
      ]
    },
    {
      "cell_type": "code",
      "execution_count": 9,
      "metadata": {
        "colab": {
          "base_uri": "https://localhost:8080/",
          "height": 257
        },
        "id": "zNTi-W550xER",
        "outputId": "c9a4fc44-47d0-4c14-8602-0f9efcae7cb2"
      },
      "outputs": [
        {
          "data": {
            "text/html": [
              "<div>\n",
              "<style scoped>\n",
              "    .dataframe tbody tr th:only-of-type {\n",
              "        vertical-align: middle;\n",
              "    }\n",
              "\n",
              "    .dataframe tbody tr th {\n",
              "        vertical-align: top;\n",
              "    }\n",
              "\n",
              "    .dataframe thead th {\n",
              "        text-align: right;\n",
              "    }\n",
              "</style>\n",
              "<table border=\"1\" class=\"dataframe\">\n",
              "  <thead>\n",
              "    <tr style=\"text-align: right;\">\n",
              "      <th></th>\n",
              "      <th>id</th>\n",
              "      <th>url</th>\n",
              "      <th>region</th>\n",
              "      <th>region_url</th>\n",
              "      <th>price</th>\n",
              "      <th>year</th>\n",
              "      <th>manufacturer</th>\n",
              "      <th>model</th>\n",
              "      <th>condition</th>\n",
              "      <th>cylinders</th>\n",
              "      <th>...</th>\n",
              "      <th>size</th>\n",
              "      <th>type</th>\n",
              "      <th>paint_color</th>\n",
              "      <th>image_url</th>\n",
              "      <th>description</th>\n",
              "      <th>county</th>\n",
              "      <th>state</th>\n",
              "      <th>lat</th>\n",
              "      <th>long</th>\n",
              "      <th>posting_date</th>\n",
              "    </tr>\n",
              "  </thead>\n",
              "  <tbody>\n",
              "    <tr>\n",
              "      <th>0</th>\n",
              "      <td>7222695916</td>\n",
              "      <td>https://prescott.craigslist.org/cto/d/prescott...</td>\n",
              "      <td>prescott</td>\n",
              "      <td>https://prescott.craigslist.org</td>\n",
              "      <td>6000</td>\n",
              "      <td>NaN</td>\n",
              "      <td>NaN</td>\n",
              "      <td>NaN</td>\n",
              "      <td>NaN</td>\n",
              "      <td>NaN</td>\n",
              "      <td>...</td>\n",
              "      <td>NaN</td>\n",
              "      <td>NaN</td>\n",
              "      <td>NaN</td>\n",
              "      <td>NaN</td>\n",
              "      <td>NaN</td>\n",
              "      <td>NaN</td>\n",
              "      <td>az</td>\n",
              "      <td>NaN</td>\n",
              "      <td>NaN</td>\n",
              "      <td>NaN</td>\n",
              "    </tr>\n",
              "    <tr>\n",
              "      <th>1</th>\n",
              "      <td>7218891961</td>\n",
              "      <td>https://fayar.craigslist.org/ctd/d/bentonville...</td>\n",
              "      <td>fayetteville</td>\n",
              "      <td>https://fayar.craigslist.org</td>\n",
              "      <td>11900</td>\n",
              "      <td>NaN</td>\n",
              "      <td>NaN</td>\n",
              "      <td>NaN</td>\n",
              "      <td>NaN</td>\n",
              "      <td>NaN</td>\n",
              "      <td>...</td>\n",
              "      <td>NaN</td>\n",
              "      <td>NaN</td>\n",
              "      <td>NaN</td>\n",
              "      <td>NaN</td>\n",
              "      <td>NaN</td>\n",
              "      <td>NaN</td>\n",
              "      <td>ar</td>\n",
              "      <td>NaN</td>\n",
              "      <td>NaN</td>\n",
              "      <td>NaN</td>\n",
              "    </tr>\n",
              "    <tr>\n",
              "      <th>2</th>\n",
              "      <td>7221797935</td>\n",
              "      <td>https://keys.craigslist.org/cto/d/summerland-k...</td>\n",
              "      <td>florida keys</td>\n",
              "      <td>https://keys.craigslist.org</td>\n",
              "      <td>21000</td>\n",
              "      <td>NaN</td>\n",
              "      <td>NaN</td>\n",
              "      <td>NaN</td>\n",
              "      <td>NaN</td>\n",
              "      <td>NaN</td>\n",
              "      <td>...</td>\n",
              "      <td>NaN</td>\n",
              "      <td>NaN</td>\n",
              "      <td>NaN</td>\n",
              "      <td>NaN</td>\n",
              "      <td>NaN</td>\n",
              "      <td>NaN</td>\n",
              "      <td>fl</td>\n",
              "      <td>NaN</td>\n",
              "      <td>NaN</td>\n",
              "      <td>NaN</td>\n",
              "    </tr>\n",
              "    <tr>\n",
              "      <th>3</th>\n",
              "      <td>7222270760</td>\n",
              "      <td>https://worcester.craigslist.org/cto/d/west-br...</td>\n",
              "      <td>worcester / central MA</td>\n",
              "      <td>https://worcester.craigslist.org</td>\n",
              "      <td>1500</td>\n",
              "      <td>NaN</td>\n",
              "      <td>NaN</td>\n",
              "      <td>NaN</td>\n",
              "      <td>NaN</td>\n",
              "      <td>NaN</td>\n",
              "      <td>...</td>\n",
              "      <td>NaN</td>\n",
              "      <td>NaN</td>\n",
              "      <td>NaN</td>\n",
              "      <td>NaN</td>\n",
              "      <td>NaN</td>\n",
              "      <td>NaN</td>\n",
              "      <td>ma</td>\n",
              "      <td>NaN</td>\n",
              "      <td>NaN</td>\n",
              "      <td>NaN</td>\n",
              "    </tr>\n",
              "    <tr>\n",
              "      <th>4</th>\n",
              "      <td>7210384030</td>\n",
              "      <td>https://greensboro.craigslist.org/cto/d/trinit...</td>\n",
              "      <td>greensboro</td>\n",
              "      <td>https://greensboro.craigslist.org</td>\n",
              "      <td>4900</td>\n",
              "      <td>NaN</td>\n",
              "      <td>NaN</td>\n",
              "      <td>NaN</td>\n",
              "      <td>NaN</td>\n",
              "      <td>NaN</td>\n",
              "      <td>...</td>\n",
              "      <td>NaN</td>\n",
              "      <td>NaN</td>\n",
              "      <td>NaN</td>\n",
              "      <td>NaN</td>\n",
              "      <td>NaN</td>\n",
              "      <td>NaN</td>\n",
              "      <td>nc</td>\n",
              "      <td>NaN</td>\n",
              "      <td>NaN</td>\n",
              "      <td>NaN</td>\n",
              "    </tr>\n",
              "  </tbody>\n",
              "</table>\n",
              "<p>5 rows × 26 columns</p>\n",
              "</div>"
            ],
            "text/plain": [
              "           id                                                url  \\\n",
              "0  7222695916  https://prescott.craigslist.org/cto/d/prescott...   \n",
              "1  7218891961  https://fayar.craigslist.org/ctd/d/bentonville...   \n",
              "2  7221797935  https://keys.craigslist.org/cto/d/summerland-k...   \n",
              "3  7222270760  https://worcester.craigslist.org/cto/d/west-br...   \n",
              "4  7210384030  https://greensboro.craigslist.org/cto/d/trinit...   \n",
              "\n",
              "                   region                         region_url  price  year  \\\n",
              "0                prescott    https://prescott.craigslist.org   6000   NaN   \n",
              "1            fayetteville       https://fayar.craigslist.org  11900   NaN   \n",
              "2            florida keys        https://keys.craigslist.org  21000   NaN   \n",
              "3  worcester / central MA   https://worcester.craigslist.org   1500   NaN   \n",
              "4              greensboro  https://greensboro.craigslist.org   4900   NaN   \n",
              "\n",
              "  manufacturer model condition cylinders  ... size  type paint_color  \\\n",
              "0          NaN   NaN       NaN       NaN  ...  NaN   NaN         NaN   \n",
              "1          NaN   NaN       NaN       NaN  ...  NaN   NaN         NaN   \n",
              "2          NaN   NaN       NaN       NaN  ...  NaN   NaN         NaN   \n",
              "3          NaN   NaN       NaN       NaN  ...  NaN   NaN         NaN   \n",
              "4          NaN   NaN       NaN       NaN  ...  NaN   NaN         NaN   \n",
              "\n",
              "  image_url description county state lat long posting_date  \n",
              "0       NaN         NaN    NaN    az NaN  NaN          NaN  \n",
              "1       NaN         NaN    NaN    ar NaN  NaN          NaN  \n",
              "2       NaN         NaN    NaN    fl NaN  NaN          NaN  \n",
              "3       NaN         NaN    NaN    ma NaN  NaN          NaN  \n",
              "4       NaN         NaN    NaN    nc NaN  NaN          NaN  \n",
              "\n",
              "[5 rows x 26 columns]"
            ]
          },
          "execution_count": 9,
          "metadata": {},
          "output_type": "execute_result"
        }
      ],
      "source": [
        "df = pd.read_csv('vehicles.csv')\n",
        "df.head()"
      ]
    },
    {
      "cell_type": "markdown",
      "metadata": {
        "id": "QBoMx-4CojDx"
      },
      "source": [
        "## 3) Feature scaling"
      ]
    },
    {
      "cell_type": "markdown",
      "metadata": {
        "id": "yHxcIw5c059g"
      },
      "source": [
        "## 4) Training"
      ]
    },
    {
      "cell_type": "markdown",
      "metadata": {
        "id": "ZVrHqsa2p_Ki"
      },
      "source": [
        "### 4-1) Dataset Split"
      ]
    },
    {
      "cell_type": "code",
      "execution_count": null,
      "metadata": {
        "id": "HmBHWOHW1EVX"
      },
      "outputs": [],
      "source": []
    },
    {
      "cell_type": "markdown",
      "metadata": {
        "id": "60OPP1dRqq8x"
      },
      "source": [
        "### 4-2) Clustering"
      ]
    },
    {
      "cell_type": "code",
      "execution_count": null,
      "metadata": {
        "id": "xsSedsK2qudU"
      },
      "outputs": [],
      "source": []
    },
    {
      "cell_type": "markdown",
      "metadata": {
        "id": "iBCbzmgW1Ems"
      },
      "source": [
        "## 5) Evaluation"
      ]
    },
    {
      "cell_type": "code",
      "execution_count": null,
      "metadata": {
        "id": "y85oILmo1bEV"
      },
      "outputs": [],
      "source": []
    },
    {
      "cell_type": "markdown",
      "metadata": {
        "id": "AkX7EpkR1ZGN"
      },
      "source": [
        "## 6) Result"
      ]
    },
    {
      "cell_type": "code",
      "execution_count": null,
      "metadata": {
        "id": "XydOLZAl1Gpj"
      },
      "outputs": [],
      "source": []
    }
  ],
  "metadata": {
    "colab": {
      "provenance": []
    },
    "kernelspec": {
      "display_name": "Python 3",
      "name": "python3"
    },
    "language_info": {
      "codemirror_mode": {
        "name": "ipython",
        "version": 3
      },
      "file_extension": ".py",
      "mimetype": "text/x-python",
      "name": "python",
      "nbconvert_exporter": "python",
      "pygments_lexer": "ipython3",
      "version": "3.9.13"
    }
  },
  "nbformat": 4,
  "nbformat_minor": 0
}
